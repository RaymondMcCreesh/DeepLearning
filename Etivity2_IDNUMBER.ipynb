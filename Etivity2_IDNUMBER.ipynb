{
  "cells": [
    {
      "cell_type": "markdown",
      "metadata": {
        "id": "QGy4ACEySwz5"
      },
      "source": [
        "# E-tivity 2 (06/02/23 - 19/02/23)\n",
        "\n",
        "* Your Name\n",
        "\n",
        "* Your Student ID"
      ]
    },
    {
      "cell_type": "markdown",
      "metadata": {
        "id": "o_8U-LQNSwz-"
      },
      "source": [
        "## Outline\n",
        "\n",
        "This e-tivity is split into two parts. The first part <a href=\"#part1\">**Stock Predicition**</a> is a group activity where you are tasked with predicting the stock market.\n",
        "\n",
        "The second <a href=\"#part2\">**Sentiment Analysis**</a> is an individual task, the problem is to predict if a film review is positive or negative."
      ]
    },
    {
      "cell_type": "markdown",
      "metadata": {
        "id": "Cl1JPh7dSwz_"
      },
      "source": [
        "### Guidelines\n",
        "\n",
        "The e-tivity is split into five tasks. The first four are \"group\" excersises, in that you post the solutions to Tasks 1-4 to Gitlab. This will allow the members of your group to send you feedback (via the forums) so you can improve your submission. The final task is an individual task and together with the other tasks, should be uploaded to Sulis but not to gitlab.\n",
        "\n",
        "Marks will be deducted if task 5 is posted to gitlab in contravention of instructions. Also if the the final submission is not a single notebook with tasks 1-5 and with correct identification or filename.\n",
        "\n",
        "\n",
        "Grading guidelines: the grades for each task are additive, max 20. Weight [5/7]\n",
        "\n",
        "**Task 1 [0-6]**: Complete with suitable preprocessing steps. There is no unique solution but you should justify the actions you are taking.\n",
        "\n",
        "**Task 2 [0-4]**: Complete with suitable treatment of missing values. Again there maybe more than one solution, the important thing is to justify your actions.\n",
        "\n",
        "**Tasks 3+4 [0-4]**: Create a suitable model with correct evaluation. Test for common DL issues.\n",
        "\n",
        "**Task 5 [0-6]**: Completion of Task 5, using the layers outlined. The purpose of the task is to demonstrate that you can construct a valid model from scratch. Direct copy and paste from the web is not acceptable."
      ]
    },
    {
      "cell_type": "markdown",
      "metadata": {
        "id": "HPg6yIrXSw0A"
      },
      "source": [
        "<a id='part1'></a>\n",
        "## Stock Prediction\n",
        "\n",
        "### Context\n",
        "\n",
        "There is a small dataset of real stock prices for each working day from the end of 2015 to the end of 2019. There are four variables (with a time stamp), stock price, oil price, gold price and Euro to Dollar exchange. You need to predict the Stock price a day ahead from only the past values of each of the 4 variables. \n",
        "\n",
        "\n",
        "### Tasks 1-4 (complete by Monday 13/02/23)\n",
        "\n",
        "These tasks are to be completed and uploaded to GitLab on which the other group members can comment. The forum activity will form part of the overall mark for the e-tivity."
      ]
    },
    {
      "cell_type": "markdown",
      "metadata": {
        "id": "df65PhM_Sw0B"
      },
      "source": [
        "**Task 1: data preprocessing**\n",
        "\n",
        "Explain any preprocessing steps you take including but limited to reformatting and also how you have selected the training and test sets. The test set should be 20% of the whole.\n"
      ]
    },
    {
      "cell_type": "code",
      "source": [
        "import matplotlib.pyplot as plt\n",
        "import numpy as np\n",
        "import pandas as pd\n",
        "import tensorflow as tf\n",
        "\n",
        "\n",
        "df = pd.read_csv(\"stock.csv\")\n",
        "df.head(10)"
      ],
      "metadata": {
        "colab": {
          "base_uri": "https://localhost:8080/",
          "height": 363
        },
        "id": "AMo14ig6eip2",
        "outputId": "a3934e39-7aae-4c9d-c025-ec6930ea45d1"
      },
      "execution_count": 1,
      "outputs": [
        {
          "output_type": "execute_result",
          "data": {
            "text/plain": [
              "         Date        Stock        Oil  EuroToDollar    Gold\n",
              "0  2015-11-23  2089.409912  41.490002        0.9432  1124.7\n",
              "1  2015-11-24  2084.419922  42.040001        0.9388  1131.6\n",
              "2  2015-11-25  2089.300049  42.689999        0.9420  1128.4\n",
              "3  2015-11-27  2088.820068  43.250000        0.9438  1114.5\n",
              "4  2015-11-30  2090.949951  41.770000        0.9468  1123.9\n",
              "5  2015-12-01  2082.929932  41.730000        0.9416  1122.0\n",
              "6  2015-12-02  2101.709961  41.689999        0.9458  1112.4\n",
              "7  2015-12-03  2080.709961  40.150002        0.9173  1120.6\n",
              "8  2015-12-04  2051.239990  41.310001        0.9188  1143.2\n",
              "9  2015-12-07  2090.419922  40.099998        0.9225  1134.3"
            ],
            "text/html": [
              "\n",
              "  <div id=\"df-67cecab0-4ae9-432e-a383-dcf8db0bf9e1\">\n",
              "    <div class=\"colab-df-container\">\n",
              "      <div>\n",
              "<style scoped>\n",
              "    .dataframe tbody tr th:only-of-type {\n",
              "        vertical-align: middle;\n",
              "    }\n",
              "\n",
              "    .dataframe tbody tr th {\n",
              "        vertical-align: top;\n",
              "    }\n",
              "\n",
              "    .dataframe thead th {\n",
              "        text-align: right;\n",
              "    }\n",
              "</style>\n",
              "<table border=\"1\" class=\"dataframe\">\n",
              "  <thead>\n",
              "    <tr style=\"text-align: right;\">\n",
              "      <th></th>\n",
              "      <th>Date</th>\n",
              "      <th>Stock</th>\n",
              "      <th>Oil</th>\n",
              "      <th>EuroToDollar</th>\n",
              "      <th>Gold</th>\n",
              "    </tr>\n",
              "  </thead>\n",
              "  <tbody>\n",
              "    <tr>\n",
              "      <th>0</th>\n",
              "      <td>2015-11-23</td>\n",
              "      <td>2089.409912</td>\n",
              "      <td>41.490002</td>\n",
              "      <td>0.9432</td>\n",
              "      <td>1124.7</td>\n",
              "    </tr>\n",
              "    <tr>\n",
              "      <th>1</th>\n",
              "      <td>2015-11-24</td>\n",
              "      <td>2084.419922</td>\n",
              "      <td>42.040001</td>\n",
              "      <td>0.9388</td>\n",
              "      <td>1131.6</td>\n",
              "    </tr>\n",
              "    <tr>\n",
              "      <th>2</th>\n",
              "      <td>2015-11-25</td>\n",
              "      <td>2089.300049</td>\n",
              "      <td>42.689999</td>\n",
              "      <td>0.9420</td>\n",
              "      <td>1128.4</td>\n",
              "    </tr>\n",
              "    <tr>\n",
              "      <th>3</th>\n",
              "      <td>2015-11-27</td>\n",
              "      <td>2088.820068</td>\n",
              "      <td>43.250000</td>\n",
              "      <td>0.9438</td>\n",
              "      <td>1114.5</td>\n",
              "    </tr>\n",
              "    <tr>\n",
              "      <th>4</th>\n",
              "      <td>2015-11-30</td>\n",
              "      <td>2090.949951</td>\n",
              "      <td>41.770000</td>\n",
              "      <td>0.9468</td>\n",
              "      <td>1123.9</td>\n",
              "    </tr>\n",
              "    <tr>\n",
              "      <th>5</th>\n",
              "      <td>2015-12-01</td>\n",
              "      <td>2082.929932</td>\n",
              "      <td>41.730000</td>\n",
              "      <td>0.9416</td>\n",
              "      <td>1122.0</td>\n",
              "    </tr>\n",
              "    <tr>\n",
              "      <th>6</th>\n",
              "      <td>2015-12-02</td>\n",
              "      <td>2101.709961</td>\n",
              "      <td>41.689999</td>\n",
              "      <td>0.9458</td>\n",
              "      <td>1112.4</td>\n",
              "    </tr>\n",
              "    <tr>\n",
              "      <th>7</th>\n",
              "      <td>2015-12-03</td>\n",
              "      <td>2080.709961</td>\n",
              "      <td>40.150002</td>\n",
              "      <td>0.9173</td>\n",
              "      <td>1120.6</td>\n",
              "    </tr>\n",
              "    <tr>\n",
              "      <th>8</th>\n",
              "      <td>2015-12-04</td>\n",
              "      <td>2051.239990</td>\n",
              "      <td>41.310001</td>\n",
              "      <td>0.9188</td>\n",
              "      <td>1143.2</td>\n",
              "    </tr>\n",
              "    <tr>\n",
              "      <th>9</th>\n",
              "      <td>2015-12-07</td>\n",
              "      <td>2090.419922</td>\n",
              "      <td>40.099998</td>\n",
              "      <td>0.9225</td>\n",
              "      <td>1134.3</td>\n",
              "    </tr>\n",
              "  </tbody>\n",
              "</table>\n",
              "</div>\n",
              "      <button class=\"colab-df-convert\" onclick=\"convertToInteractive('df-67cecab0-4ae9-432e-a383-dcf8db0bf9e1')\"\n",
              "              title=\"Convert this dataframe to an interactive table.\"\n",
              "              style=\"display:none;\">\n",
              "        \n",
              "  <svg xmlns=\"http://www.w3.org/2000/svg\" height=\"24px\"viewBox=\"0 0 24 24\"\n",
              "       width=\"24px\">\n",
              "    <path d=\"M0 0h24v24H0V0z\" fill=\"none\"/>\n",
              "    <path d=\"M18.56 5.44l.94 2.06.94-2.06 2.06-.94-2.06-.94-.94-2.06-.94 2.06-2.06.94zm-11 1L8.5 8.5l.94-2.06 2.06-.94-2.06-.94L8.5 2.5l-.94 2.06-2.06.94zm10 10l.94 2.06.94-2.06 2.06-.94-2.06-.94-.94-2.06-.94 2.06-2.06.94z\"/><path d=\"M17.41 7.96l-1.37-1.37c-.4-.4-.92-.59-1.43-.59-.52 0-1.04.2-1.43.59L10.3 9.45l-7.72 7.72c-.78.78-.78 2.05 0 2.83L4 21.41c.39.39.9.59 1.41.59.51 0 1.02-.2 1.41-.59l7.78-7.78 2.81-2.81c.8-.78.8-2.07 0-2.86zM5.41 20L4 18.59l7.72-7.72 1.47 1.35L5.41 20z\"/>\n",
              "  </svg>\n",
              "      </button>\n",
              "      \n",
              "  <style>\n",
              "    .colab-df-container {\n",
              "      display:flex;\n",
              "      flex-wrap:wrap;\n",
              "      gap: 12px;\n",
              "    }\n",
              "\n",
              "    .colab-df-convert {\n",
              "      background-color: #E8F0FE;\n",
              "      border: none;\n",
              "      border-radius: 50%;\n",
              "      cursor: pointer;\n",
              "      display: none;\n",
              "      fill: #1967D2;\n",
              "      height: 32px;\n",
              "      padding: 0 0 0 0;\n",
              "      width: 32px;\n",
              "    }\n",
              "\n",
              "    .colab-df-convert:hover {\n",
              "      background-color: #E2EBFA;\n",
              "      box-shadow: 0px 1px 2px rgba(60, 64, 67, 0.3), 0px 1px 3px 1px rgba(60, 64, 67, 0.15);\n",
              "      fill: #174EA6;\n",
              "    }\n",
              "\n",
              "    [theme=dark] .colab-df-convert {\n",
              "      background-color: #3B4455;\n",
              "      fill: #D2E3FC;\n",
              "    }\n",
              "\n",
              "    [theme=dark] .colab-df-convert:hover {\n",
              "      background-color: #434B5C;\n",
              "      box-shadow: 0px 1px 3px 1px rgba(0, 0, 0, 0.15);\n",
              "      filter: drop-shadow(0px 1px 2px rgba(0, 0, 0, 0.3));\n",
              "      fill: #FFFFFF;\n",
              "    }\n",
              "  </style>\n",
              "\n",
              "      <script>\n",
              "        const buttonEl =\n",
              "          document.querySelector('#df-67cecab0-4ae9-432e-a383-dcf8db0bf9e1 button.colab-df-convert');\n",
              "        buttonEl.style.display =\n",
              "          google.colab.kernel.accessAllowed ? 'block' : 'none';\n",
              "\n",
              "        async function convertToInteractive(key) {\n",
              "          const element = document.querySelector('#df-67cecab0-4ae9-432e-a383-dcf8db0bf9e1');\n",
              "          const dataTable =\n",
              "            await google.colab.kernel.invokeFunction('convertToInteractive',\n",
              "                                                     [key], {});\n",
              "          if (!dataTable) return;\n",
              "\n",
              "          const docLinkHtml = 'Like what you see? Visit the ' +\n",
              "            '<a target=\"_blank\" href=https://colab.research.google.com/notebooks/data_table.ipynb>data table notebook</a>'\n",
              "            + ' to learn more about interactive tables.';\n",
              "          element.innerHTML = '';\n",
              "          dataTable['output_type'] = 'display_data';\n",
              "          await google.colab.output.renderOutput(dataTable, element);\n",
              "          const docLink = document.createElement('div');\n",
              "          docLink.innerHTML = docLinkHtml;\n",
              "          element.appendChild(docLink);\n",
              "        }\n",
              "      </script>\n",
              "    </div>\n",
              "  </div>\n",
              "  "
            ]
          },
          "metadata": {},
          "execution_count": 1
        }
      ]
    },
    {
      "cell_type": "code",
      "source": [
        "print(df.isna().sum())"
      ],
      "metadata": {
        "colab": {
          "base_uri": "https://localhost:8080/"
        },
        "id": "mlaxTZM4jsaL",
        "outputId": "36e1c730-f535-4d65-a97e-bded25795296"
      },
      "execution_count": 2,
      "outputs": [
        {
          "output_type": "stream",
          "name": "stdout",
          "text": [
            "Date             0\n",
            "Stock            0\n",
            "Oil             10\n",
            "EuroToDollar    12\n",
            "Gold             0\n",
            "dtype: int64\n"
          ]
        }
      ]
    },
    {
      "cell_type": "code",
      "source": [
        "plt.figure(figsize=(10, 6))\n",
        "df.boxplot()\n",
        "plt.show()"
      ],
      "metadata": {
        "colab": {
          "base_uri": "https://localhost:8080/",
          "height": 429
        },
        "id": "V3Emr_epqMBW",
        "outputId": "6ebe4c66-6056-4217-aeb1-b9ec5d4c052e"
      },
      "execution_count": 3,
      "outputs": [
        {
          "output_type": "stream",
          "name": "stderr",
          "text": [
            "/usr/local/lib/python3.8/dist-packages/matplotlib/cbook/__init__.py:1376: VisibleDeprecationWarning: Creating an ndarray from ragged nested sequences (which is a list-or-tuple of lists-or-tuples-or ndarrays with different lengths or shapes) is deprecated. If you meant to do this, you must specify 'dtype=object' when creating the ndarray.\n",
            "  X = np.atleast_1d(X.T if isinstance(X, np.ndarray) else np.asarray(X))\n"
          ]
        },
        {
          "output_type": "display_data",
          "data": {
            "text/plain": [
              "<Figure size 720x432 with 1 Axes>"
            ],
            "image/png": "[encoded data removed]"
          },
          "metadata": {
            "needs_background": "light"
          }
        }
      ]
    },
    {
      "cell_type": "code",
      "source": [
        "df.boxplot(column=['EuroToDollar']) "
      ],
      "metadata": {
        "colab": {
          "base_uri": "https://localhost:8080/",
          "height": 282
        },
        "id": "Z7a95sNfqUyO",
        "outputId": "4f0bb55f-11d2-45c0-bd69-60e076f38030"
      },
      "execution_count": 4,
      "outputs": [
        {
          "output_type": "execute_result",
          "data": {
            "text/plain": [
              "<matplotlib.axes._subplots.AxesSubplot at 0x7ff314e5d0d0>"
            ]
          },
          "metadata": {},
          "execution_count": 4
        },
        {
          "output_type": "display_data",
          "data": {
            "text/plain": [
              "<Figure size 432x288 with 1 Axes>"
            ],
            "image/png": "[encoded data removed]"
          },
          "metadata": {
            "needs_background": "light"
          }
        }
      ]
    },
    {
      "cell_type": "code",
      "source": [
        "# def encode_cyclic_date(df, date_col):\n",
        "#     df[date_col] = pd.to_datetime(df[date_col])\n",
        "#     df['sin_year'] = np.sin(2 * np.pi * df[date_col].dt.year / df[date_col].dt.year.max())\n",
        "#     df['cos_year'] = np.cos(2 * np.pi * df[date_col].dt.year / df[date_col].dt.year.max())\n",
        "#     df['sin_month'] = np.sin(2 * np.pi * df[date_col].dt.month / 12)\n",
        "#     df['cos_month'] = np.cos(2 * np.pi * df[date_col].dt.month / 12)\n",
        "#     df['sin_day'] = np.sin(2 * np.pi * df[date_col].dt.day / df[date_col].dt.day.max())\n",
        "#     df['cos_day'] = np.cos(2 * np.pi * df[date_col].dt.day / df[date_col].dt.day.max())\n",
        "#     return df.drop(date_col, axis=1)\n",
        "\n",
        "# df_encoded = encode_cyclic_date(df, 'Date')\n",
        "# df.head(10)"
      ],
      "metadata": {
        "id": "2CRIOxWOgqaZ"
      },
      "execution_count": 5,
      "outputs": []
    },
    {
      "cell_type": "code",
      "source": [
        "# this was uses hte\"Date\" columnas input for training while still \n",
        "#providing useful plots to visualize the trends in the data.\n",
        "df['Date'] = pd.to_datetime(df['Date'], format=\"%Y-%m-%d\")\n",
        "df.set_index('Date', inplace=True)\n",
        "# df['year'] = df.index.year\n",
        "# df['month'] = df.index.month\n",
        "# df['day'] = df.index.day\n",
        "# df['dayofweek'] = df.index.dayofweek\n",
        "# df['dayofyear'] = df.index.dayofyear"
      ],
      "metadata": {
        "id": "fHyw2HvImCGs"
      },
      "execution_count": 6,
      "outputs": []
    },
    {
      "cell_type": "code",
      "source": [
        "print(df.isna().sum())"
      ],
      "metadata": {
        "colab": {
          "base_uri": "https://localhost:8080/"
        },
        "id": "-2D47XfEjgoy",
        "outputId": "9b5180ed-004f-473a-aba5-4b920c2f50e1"
      },
      "execution_count": 7,
      "outputs": [
        {
          "output_type": "stream",
          "name": "stdout",
          "text": [
            "Stock            0\n",
            "Oil             10\n",
            "EuroToDollar    12\n",
            "Gold             0\n",
            "dtype: int64\n"
          ]
        }
      ]
    },
    {
      "cell_type": "code",
      "source": [
        "# from sklearn.preprocessing import MinMaxScaler\n",
        "\n",
        "# scaler = MinMaxScaler()\n",
        "# df[['Stock', 'Oil', 'EuroToDollar', 'Gold']] = scaler.fit_transform(df[['Stock', 'Oil', 'EuroToDollar', 'Gold']])\n",
        "\n",
        "df.plot(figsize=(15, 10))\n",
        "plt.show()\n"
      ],
      "metadata": {
        "colab": {
          "base_uri": "https://localhost:8080/",
          "height": 542
        },
        "id": "GSSTD1Dik_Lm",
        "outputId": "1fafed31-caa5-4726-92f9-54067f926460"
      },
      "execution_count": 8,
      "outputs": [
        {
          "output_type": "display_data",
          "data": {
            "text/plain": [
              "<Figure size 1080x720 with 1 Axes>"
            ],
            "image/png": "[encoded data removed]"
          },
          "metadata": {
            "needs_background": "light"
          }
        }
      ]
    },
    {
      "cell_type": "markdown",
      "metadata": {
        "id": "PbI0P8THSw0B"
      },
      "source": [
        "**Task 2: data cleaning**\n",
        "\n",
        "There are a number of missing values in the data. Clean the data so that it is suitable for use with the NN. Bare in mind that you want to retain the time coherency of the data as much as possible.\n"
      ]
    },
    {
      "cell_type": "code",
      "source": [
        "# Use linear interpolation to estimate missing values\n",
        "#df.interpolate(method='linear', inplace=True)\n",
        "df = df.dropna()\n",
        "# Check if any missing values still exist\n",
        "print(df.isna().sum())"
      ],
      "metadata": {
        "colab": {
          "base_uri": "https://localhost:8080/"
        },
        "id": "nwGM_qyMv1Cn",
        "outputId": "916eb6e1-c13f-4722-e09f-382c5aa2fbf4"
      },
      "execution_count": 9,
      "outputs": [
        {
          "output_type": "stream",
          "name": "stdout",
          "text": [
            "Stock           0\n",
            "Oil             0\n",
            "EuroToDollar    0\n",
            "Gold            0\n",
            "dtype: int64\n"
          ]
        }
      ]
    },
    {
      "cell_type": "code",
      "source": [
        "# df_x = df.drop(columns=['Stock'])\n",
        "# df_y = df['Stock']\n",
        "\n",
        "# print(df_x.shape)\n",
        "# print(df_y.shape)"
      ],
      "metadata": {
        "id": "RMi6Sv5Jca4m"
      },
      "execution_count": 10,
      "outputs": []
    },
    {
      "cell_type": "code",
      "source": [
        "time_steps = 100\n",
        "\n",
        "x = np.array([df.iloc[i:i + time_steps] for i in range(len(df) - time_steps)])\n",
        "y = np.array([df.iloc[i + time_steps:i + time_steps + 1][['Stock']] for i in range(len(df) - time_steps)])\n",
        "print(x.shape)\n",
        "print(y.shape)"
      ],
      "metadata": {
        "colab": {
          "base_uri": "https://localhost:8080/"
        },
        "id": "DVPhGqlbjGWU",
        "outputId": "7c3050ed-15a7-4437-adff-f4721b556998"
      },
      "execution_count": 11,
      "outputs": [
        {
          "output_type": "stream",
          "name": "stdout",
          "text": [
            "(914, 100, 4)\n",
            "(914, 1, 1)\n"
          ]
        }
      ]
    },
    {
      "cell_type": "code",
      "source": [
        "from sklearn.preprocessing import MinMaxScaler\n",
        "from sklearn.model_selection import train_test_split\n",
        "# Split the data into train and test sets\n",
        "x_train, x_test, y_train, y_test = train_test_split(x, y, test_size=0.2, shuffle=False)\n",
        "\n",
        "x_train_max = x_train.max()\n",
        "x_train_min = x_train.min()\n",
        "x_train = (x_train - x_train_min) / (x_train_max - x_train_min)\n",
        "x_test = (x_test - x_train_min) / (x_train_max - x_train_min)\n",
        "\n",
        "y_train_max = y_train.max()\n",
        "y_train_min = y_train.min()\n",
        "y_train = (y_train - y_train_min) / (y_train_max - y_train_min)\n",
        "y_test = (y_test - y_train_min) / (y_train_max - y_train_min)"
      ],
      "metadata": {
        "id": "XNAnHI-V3qlI"
      },
      "execution_count": 12,
      "outputs": []
    },
    {
      "cell_type": "markdown",
      "metadata": {
        "id": "OnkyhUsiSw0C"
      },
      "source": [
        "**Task 3: model construction**\n",
        "\n",
        "Construct a RNN network that will predict the future value of Stock, one day/time inteval in advance."
      ]
    },
    {
      "cell_type": "code",
      "source": [
        "from tensorflow.keras.callbacks import EarlyStopping\n",
        "from tensorflow.keras.layers import Dense, Input, SimpleRNN\n",
        "from tensorflow.keras.models import Model\n",
        "\n",
        "# Define the inputs (the time sequence of feature variables)\n",
        "inputs = Input(shape=(time_steps, df.shape[1]))\n",
        "\n",
        "# Define a Simple Recurrent Neural Network\n",
        "n = SimpleRNN(units=10)(inputs)\n",
        "\n",
        "# Add a final fully connected layer to give us the prediced value\n",
        "output = Dense(1, activation='linear')(n)\n",
        "\n",
        "# Create a Simple RNN model based upon our inputs and output\n",
        "simple_rnn = Model(inputs, output, name=\"simple_rnn\")\n",
        "\n",
        "simple_rnn.compile(loss='mse', optimizer='adam')\n",
        "simple_rnn.summary()"
      ],
      "metadata": {
        "colab": {
          "base_uri": "https://localhost:8080/"
        },
        "id": "_gm3pIvT4tjV",
        "outputId": "c5bbbea1-3566-40c3-c731-fc6f55800a97"
      },
      "execution_count": 13,
      "outputs": [
        {
          "output_type": "stream",
          "name": "stdout",
          "text": [
            "Model: \"simple_rnn\"\n",
            "_________________________________________________________________\n",
            " Layer (type)                Output Shape              Param #   \n",
            "=================================================================\n",
            " input_1 (InputLayer)        [(None, 100, 4)]          0         \n",
            "                                                                 \n",
            " simple_rnn (SimpleRNN)      (None, 10)                150       \n",
            "                                                                 \n",
            " dense (Dense)               (None, 1)                 11        \n",
            "                                                                 \n",
            "=================================================================\n",
            "Total params: 161\n",
            "Trainable params: 161\n",
            "Non-trainable params: 0\n",
            "_________________________________________________________________\n"
          ]
        }
      ]
    },
    {
      "cell_type": "code",
      "source": [
        "simple_rnn.fit(x_train, y_train, epochs=1000, batch_size=128,callbacks=[EarlyStopping(monitor='loss', patience=10)])"
      ],
      "metadata": {
        "colab": {
          "base_uri": "https://localhost:8080/"
        },
        "id": "dtAXl0T8u78v",
        "outputId": "29d37e4a-f1de-4b48-ea72-f5c7740f0eab"
      },
      "execution_count": 14,
      "outputs": [
        {
          "output_type": "stream",
          "name": "stdout",
          "text": [
            "Epoch 1/1000\n",
            "6/6 [==============================] - 2s 51ms/step - loss: 0.0356\n",
            "Epoch 2/1000\n",
            "6/6 [==============================] - 0s 50ms/step - loss: 0.0328\n",
            "Epoch 3/1000\n",
            "6/6 [==============================] - 0s 56ms/step - loss: 0.0298\n",
            "Epoch 4/1000\n",
            "6/6 [==============================] - 0s 52ms/step - loss: 0.0270\n",
            "Epoch 5/1000\n",
            "6/6 [==============================] - 0s 49ms/step - loss: 0.0240\n",
            "Epoch 6/1000\n",
            "6/6 [==============================] - 0s 45ms/step - loss: 0.0208\n",
            "Epoch 7/1000\n",
            "6/6 [==============================] - 0s 61ms/step - loss: 0.0171\n",
            "Epoch 8/1000\n",
            "6/6 [==============================] - 0s 57ms/step - loss: 0.0133\n",
            "Epoch 9/1000\n",
            "6/6 [==============================] - 0s 54ms/step - loss: 0.0094\n",
            "Epoch 10/1000\n",
            "6/6 [==============================] - 0s 52ms/step - loss: 0.0056\n",
            "Epoch 11/1000\n",
            "6/6 [==============================] - 0s 43ms/step - loss: 0.0031\n",
            "Epoch 12/1000\n",
            "6/6 [==============================] - 0s 65ms/step - loss: 0.0024\n",
            "Epoch 13/1000\n",
            "6/6 [==============================] - 0s 47ms/step - loss: 0.0025\n",
            "Epoch 14/1000\n",
            "6/6 [==============================] - 0s 57ms/step - loss: 0.0024\n",
            "Epoch 15/1000\n",
            "6/6 [==============================] - 0s 38ms/step - loss: 0.0021\n",
            "Epoch 16/1000\n",
            "6/6 [==============================] - 0s 51ms/step - loss: 0.0021\n",
            "Epoch 17/1000\n",
            "6/6 [==============================] - 0s 38ms/step - loss: 0.0021\n",
            "Epoch 18/1000\n",
            "6/6 [==============================] - 0s 55ms/step - loss: 0.0021\n",
            "Epoch 19/1000\n",
            "6/6 [==============================] - 0s 45ms/step - loss: 0.0021\n",
            "Epoch 20/1000\n",
            "6/6 [==============================] - 0s 48ms/step - loss: 0.0020\n",
            "Epoch 21/1000\n",
            "6/6 [==============================] - 0s 37ms/step - loss: 0.0020\n",
            "Epoch 22/1000\n",
            "6/6 [==============================] - 0s 35ms/step - loss: 0.0020\n",
            "Epoch 23/1000\n",
            "6/6 [==============================] - 0s 33ms/step - loss: 0.0020\n",
            "Epoch 24/1000\n",
            "6/6 [==============================] - 0s 35ms/step - loss: 0.0020\n",
            "Epoch 25/1000\n",
            "6/6 [==============================] - 0s 41ms/step - loss: 0.0020\n",
            "Epoch 26/1000\n",
            "6/6 [==============================] - 0s 37ms/step - loss: 0.0020\n",
            "Epoch 27/1000\n",
            "6/6 [==============================] - 0s 41ms/step - loss: 0.0019\n",
            "Epoch 28/1000\n",
            "6/6 [==============================] - 0s 47ms/step - loss: 0.0019\n",
            "Epoch 29/1000\n",
            "6/6 [==============================] - 0s 44ms/step - loss: 0.0019\n",
            "Epoch 30/1000\n",
            "6/6 [==============================] - 0s 65ms/step - loss: 0.0020\n",
            "Epoch 31/1000\n",
            "6/6 [==============================] - 0s 37ms/step - loss: 0.0019\n",
            "Epoch 32/1000\n",
            "6/6 [==============================] - 0s 48ms/step - loss: 0.0019\n",
            "Epoch 33/1000\n",
            "6/6 [==============================] - 0s 32ms/step - loss: 0.0018\n",
            "Epoch 34/1000\n",
            "6/6 [==============================] - 0s 37ms/step - loss: 0.0018\n",
            "Epoch 35/1000\n",
            "6/6 [==============================] - 0s 35ms/step - loss: 0.0018\n",
            "Epoch 36/1000\n",
            "6/6 [==============================] - 0s 53ms/step - loss: 0.0018\n",
            "Epoch 37/1000\n",
            "6/6 [==============================] - 0s 50ms/step - loss: 0.0018\n",
            "Epoch 38/1000\n",
            "6/6 [==============================] - 0s 39ms/step - loss: 0.0018\n",
            "Epoch 39/1000\n",
            "6/6 [==============================] - 0s 52ms/step - loss: 0.0018\n",
            "Epoch 40/1000\n",
            "6/6 [==============================] - 0s 41ms/step - loss: 0.0017\n",
            "Epoch 41/1000\n",
            "6/6 [==============================] - 0s 43ms/step - loss: 0.0018\n",
            "Epoch 42/1000\n",
            "6/6 [==============================] - 0s 47ms/step - loss: 0.0018\n",
            "Epoch 43/1000\n",
            "6/6 [==============================] - 0s 46ms/step - loss: 0.0018\n",
            "Epoch 44/1000\n",
            "6/6 [==============================] - 0s 50ms/step - loss: 0.0017\n",
            "Epoch 45/1000\n",
            "6/6 [==============================] - 0s 51ms/step - loss: 0.0017\n",
            "Epoch 46/1000\n",
            "6/6 [==============================] - 0s 38ms/step - loss: 0.0017\n",
            "Epoch 47/1000\n",
            "6/6 [==============================] - 0s 38ms/step - loss: 0.0017\n",
            "Epoch 48/1000\n",
            "6/6 [==============================] - 0s 71ms/step - loss: 0.0017\n",
            "Epoch 49/1000\n",
            "6/6 [==============================] - 0s 54ms/step - loss: 0.0017\n",
            "Epoch 50/1000\n",
            "6/6 [==============================] - 0s 50ms/step - loss: 0.0017\n",
            "Epoch 51/1000\n",
            "6/6 [==============================] - 0s 57ms/step - loss: 0.0017\n",
            "Epoch 52/1000\n",
            "6/6 [==============================] - 0s 54ms/step - loss: 0.0017\n",
            "Epoch 53/1000\n",
            "6/6 [==============================] - 0s 51ms/step - loss: 0.0016\n",
            "Epoch 54/1000\n",
            "6/6 [==============================] - 0s 67ms/step - loss: 0.0016\n",
            "Epoch 55/1000\n",
            "6/6 [==============================] - 0s 50ms/step - loss: 0.0017\n",
            "Epoch 56/1000\n",
            "6/6 [==============================] - 0s 52ms/step - loss: 0.0016\n",
            "Epoch 57/1000\n",
            "6/6 [==============================] - 0s 71ms/step - loss: 0.0016\n",
            "Epoch 58/1000\n",
            "6/6 [==============================] - 0s 49ms/step - loss: 0.0016\n",
            "Epoch 59/1000\n",
            "6/6 [==============================] - 0s 43ms/step - loss: 0.0017\n",
            "Epoch 60/1000\n",
            "6/6 [==============================] - 0s 56ms/step - loss: 0.0016\n",
            "Epoch 61/1000\n",
            "6/6 [==============================] - 0s 57ms/step - loss: 0.0016\n",
            "Epoch 62/1000\n",
            "6/6 [==============================] - 0s 37ms/step - loss: 0.0016\n",
            "Epoch 63/1000\n",
            "6/6 [==============================] - 0s 33ms/step - loss: 0.0016\n",
            "Epoch 64/1000\n",
            "6/6 [==============================] - 0s 38ms/step - loss: 0.0016\n",
            "Epoch 65/1000\n",
            "6/6 [==============================] - 0s 40ms/step - loss: 0.0016\n",
            "Epoch 66/1000\n",
            "6/6 [==============================] - 0s 43ms/step - loss: 0.0016\n",
            "Epoch 67/1000\n",
            "6/6 [==============================] - 0s 44ms/step - loss: 0.0016\n",
            "Epoch 68/1000\n",
            "6/6 [==============================] - 0s 50ms/step - loss: 0.0017\n",
            "Epoch 69/1000\n",
            "6/6 [==============================] - 0s 58ms/step - loss: 0.0016\n",
            "Epoch 70/1000\n",
            "6/6 [==============================] - 0s 36ms/step - loss: 0.0015\n",
            "Epoch 71/1000\n",
            "6/6 [==============================] - 0s 45ms/step - loss: 0.0015\n",
            "Epoch 72/1000\n",
            "6/6 [==============================] - 0s 32ms/step - loss: 0.0015\n",
            "Epoch 73/1000\n",
            "6/6 [==============================] - 0s 49ms/step - loss: 0.0016\n",
            "Epoch 74/1000\n",
            "6/6 [==============================] - 0s 47ms/step - loss: 0.0015\n",
            "Epoch 75/1000\n",
            "6/6 [==============================] - 0s 35ms/step - loss: 0.0016\n",
            "Epoch 76/1000\n",
            "6/6 [==============================] - 0s 43ms/step - loss: 0.0015\n",
            "Epoch 77/1000\n",
            "6/6 [==============================] - 0s 42ms/step - loss: 0.0015\n",
            "Epoch 78/1000\n",
            "6/6 [==============================] - 0s 38ms/step - loss: 0.0015\n",
            "Epoch 79/1000\n",
            "6/6 [==============================] - 0s 46ms/step - loss: 0.0015\n",
            "Epoch 80/1000\n",
            "6/6 [==============================] - 0s 32ms/step - loss: 0.0015\n",
            "Epoch 81/1000\n",
            "6/6 [==============================] - 0s 18ms/step - loss: 0.0015\n",
            "Epoch 82/1000\n",
            "6/6 [==============================] - 0s 19ms/step - loss: 0.0015\n",
            "Epoch 83/1000\n",
            "6/6 [==============================] - 0s 18ms/step - loss: 0.0015\n",
            "Epoch 84/1000\n",
            "6/6 [==============================] - 0s 20ms/step - loss: 0.0015\n",
            "Epoch 85/1000\n",
            "6/6 [==============================] - 0s 19ms/step - loss: 0.0015\n",
            "Epoch 86/1000\n",
            "6/6 [==============================] - 0s 20ms/step - loss: 0.0014\n",
            "Epoch 87/1000\n",
            "6/6 [==============================] - 0s 18ms/step - loss: 0.0014\n",
            "Epoch 88/1000\n",
            "6/6 [==============================] - 0s 18ms/step - loss: 0.0014\n",
            "Epoch 89/1000\n",
            "6/6 [==============================] - 0s 18ms/step - loss: 0.0014\n",
            "Epoch 90/1000\n",
            "6/6 [==============================] - 0s 18ms/step - loss: 0.0014\n",
            "Epoch 91/1000\n",
            "6/6 [==============================] - 0s 22ms/step - loss: 0.0014\n",
            "Epoch 92/1000\n",
            "6/6 [==============================] - 0s 20ms/step - loss: 0.0015\n",
            "Epoch 93/1000\n",
            "6/6 [==============================] - 0s 17ms/step - loss: 0.0015\n",
            "Epoch 94/1000\n",
            "6/6 [==============================] - 0s 18ms/step - loss: 0.0015\n",
            "Epoch 95/1000\n",
            "6/6 [==============================] - 0s 19ms/step - loss: 0.0015\n",
            "Epoch 96/1000\n",
            "6/6 [==============================] - 0s 18ms/step - loss: 0.0014\n",
            "Epoch 97/1000\n",
            "6/6 [==============================] - 0s 18ms/step - loss: 0.0014\n",
            "Epoch 98/1000\n",
            "6/6 [==============================] - 0s 18ms/step - loss: 0.0014\n",
            "Epoch 99/1000\n",
            "6/6 [==============================] - 0s 19ms/step - loss: 0.0014\n",
            "Epoch 100/1000\n",
            "6/6 [==============================] - 0s 17ms/step - loss: 0.0014\n",
            "Epoch 101/1000\n",
            "6/6 [==============================] - 0s 21ms/step - loss: 0.0014\n",
            "Epoch 102/1000\n",
            "6/6 [==============================] - 0s 21ms/step - loss: 0.0014\n",
            "Epoch 103/1000\n",
            "6/6 [==============================] - 0s 18ms/step - loss: 0.0014\n",
            "Epoch 104/1000\n",
            "6/6 [==============================] - 0s 20ms/step - loss: 0.0013\n",
            "Epoch 105/1000\n",
            "6/6 [==============================] - 0s 18ms/step - loss: 0.0013\n",
            "Epoch 106/1000\n",
            "6/6 [==============================] - 0s 18ms/step - loss: 0.0013\n",
            "Epoch 107/1000\n",
            "6/6 [==============================] - 0s 19ms/step - loss: 0.0013\n",
            "Epoch 108/1000\n",
            "6/6 [==============================] - 0s 17ms/step - loss: 0.0013\n",
            "Epoch 109/1000\n",
            "6/6 [==============================] - 0s 19ms/step - loss: 0.0013\n",
            "Epoch 110/1000\n",
            "6/6 [==============================] - 0s 18ms/step - loss: 0.0013\n",
            "Epoch 111/1000\n",
            "6/6 [==============================] - 0s 18ms/step - loss: 0.0013\n",
            "Epoch 112/1000\n",
            "6/6 [==============================] - 0s 18ms/step - loss: 0.0013\n",
            "Epoch 113/1000\n",
            "6/6 [==============================] - 0s 18ms/step - loss: 0.0013\n",
            "Epoch 114/1000\n",
            "6/6 [==============================] - 0s 18ms/step - loss: 0.0013\n",
            "Epoch 115/1000\n",
            "6/6 [==============================] - 0s 19ms/step - loss: 0.0013\n",
            "Epoch 116/1000\n",
            "6/6 [==============================] - 0s 34ms/step - loss: 0.0013\n",
            "Epoch 117/1000\n",
            "6/6 [==============================] - 0s 33ms/step - loss: 0.0013\n",
            "Epoch 118/1000\n",
            "6/6 [==============================] - 0s 35ms/step - loss: 0.0013\n",
            "Epoch 119/1000\n",
            "6/6 [==============================] - 0s 33ms/step - loss: 0.0013\n",
            "Epoch 120/1000\n",
            "6/6 [==============================] - 0s 33ms/step - loss: 0.0013\n",
            "Epoch 121/1000\n",
            "6/6 [==============================] - 0s 35ms/step - loss: 0.0013\n",
            "Epoch 122/1000\n",
            "6/6 [==============================] - 0s 33ms/step - loss: 0.0013\n",
            "Epoch 123/1000\n",
            "6/6 [==============================] - 0s 33ms/step - loss: 0.0013\n",
            "Epoch 124/1000\n",
            "6/6 [==============================] - 0s 34ms/step - loss: 0.0013\n",
            "Epoch 125/1000\n",
            "6/6 [==============================] - 0s 32ms/step - loss: 0.0012\n",
            "Epoch 126/1000\n",
            "6/6 [==============================] - 0s 31ms/step - loss: 0.0012\n",
            "Epoch 127/1000\n",
            "6/6 [==============================] - 0s 32ms/step - loss: 0.0012\n",
            "Epoch 128/1000\n",
            "6/6 [==============================] - 0s 32ms/step - loss: 0.0012\n",
            "Epoch 129/1000\n",
            "6/6 [==============================] - 0s 33ms/step - loss: 0.0013\n",
            "Epoch 130/1000\n",
            "6/6 [==============================] - 0s 33ms/step - loss: 0.0013\n",
            "Epoch 131/1000\n",
            "6/6 [==============================] - 0s 33ms/step - loss: 0.0012\n",
            "Epoch 132/1000\n",
            "6/6 [==============================] - 0s 25ms/step - loss: 0.0012\n",
            "Epoch 133/1000\n",
            "6/6 [==============================] - 0s 24ms/step - loss: 0.0012\n",
            "Epoch 134/1000\n",
            "6/6 [==============================] - 0s 18ms/step - loss: 0.0012\n",
            "Epoch 135/1000\n",
            "6/6 [==============================] - 0s 20ms/step - loss: 0.0012\n",
            "Epoch 136/1000\n",
            "6/6 [==============================] - 0s 18ms/step - loss: 0.0012\n",
            "Epoch 137/1000\n",
            "6/6 [==============================] - 0s 19ms/step - loss: 0.0012\n",
            "Epoch 138/1000\n",
            "6/6 [==============================] - 0s 18ms/step - loss: 0.0012\n",
            "Epoch 139/1000\n",
            "6/6 [==============================] - 0s 17ms/step - loss: 0.0012\n",
            "Epoch 140/1000\n",
            "6/6 [==============================] - 0s 19ms/step - loss: 0.0012\n",
            "Epoch 141/1000\n",
            "6/6 [==============================] - 0s 22ms/step - loss: 0.0012\n",
            "Epoch 142/1000\n",
            "6/6 [==============================] - 0s 18ms/step - loss: 0.0012\n",
            "Epoch 143/1000\n",
            "6/6 [==============================] - 0s 21ms/step - loss: 0.0012\n",
            "Epoch 144/1000\n",
            "6/6 [==============================] - 0s 17ms/step - loss: 0.0012\n",
            "Epoch 145/1000\n",
            "6/6 [==============================] - 0s 18ms/step - loss: 0.0012\n",
            "Epoch 146/1000\n",
            "6/6 [==============================] - 0s 17ms/step - loss: 0.0012\n",
            "Epoch 147/1000\n",
            "6/6 [==============================] - 0s 19ms/step - loss: 0.0012\n",
            "Epoch 148/1000\n",
            "6/6 [==============================] - 0s 18ms/step - loss: 0.0012\n",
            "Epoch 149/1000\n",
            "6/6 [==============================] - 0s 18ms/step - loss: 0.0012\n",
            "Epoch 150/1000\n",
            "6/6 [==============================] - 0s 23ms/step - loss: 0.0011\n",
            "Epoch 151/1000\n",
            "6/6 [==============================] - 0s 17ms/step - loss: 0.0011\n",
            "Epoch 152/1000\n",
            "6/6 [==============================] - 0s 20ms/step - loss: 0.0011\n",
            "Epoch 153/1000\n",
            "6/6 [==============================] - 0s 18ms/step - loss: 0.0011\n",
            "Epoch 154/1000\n",
            "6/6 [==============================] - 0s 18ms/step - loss: 0.0011\n",
            "Epoch 155/1000\n",
            "6/6 [==============================] - 0s 18ms/step - loss: 0.0011\n",
            "Epoch 156/1000\n",
            "6/6 [==============================] - 0s 17ms/step - loss: 0.0012\n",
            "Epoch 157/1000\n",
            "6/6 [==============================] - 0s 18ms/step - loss: 0.0012\n",
            "Epoch 158/1000\n",
            "6/6 [==============================] - 0s 18ms/step - loss: 0.0011\n",
            "Epoch 159/1000\n",
            "6/6 [==============================] - 0s 18ms/step - loss: 0.0011\n",
            "Epoch 160/1000\n",
            "6/6 [==============================] - 0s 20ms/step - loss: 0.0011\n",
            "Epoch 161/1000\n",
            "6/6 [==============================] - 0s 18ms/step - loss: 0.0011\n",
            "Epoch 162/1000\n",
            "6/6 [==============================] - 0s 19ms/step - loss: 0.0011\n",
            "Epoch 163/1000\n",
            "6/6 [==============================] - 0s 17ms/step - loss: 0.0011\n",
            "Epoch 164/1000\n",
            "6/6 [==============================] - 0s 20ms/step - loss: 0.0011\n",
            "Epoch 165/1000\n",
            "6/6 [==============================] - 0s 19ms/step - loss: 0.0012\n",
            "Epoch 166/1000\n",
            "6/6 [==============================] - 0s 19ms/step - loss: 0.0012\n",
            "Epoch 167/1000\n",
            "6/6 [==============================] - 0s 21ms/step - loss: 0.0011\n",
            "Epoch 168/1000\n",
            "6/6 [==============================] - 0s 20ms/step - loss: 0.0012\n",
            "Epoch 169/1000\n",
            "6/6 [==============================] - 0s 18ms/step - loss: 0.0011\n",
            "Epoch 170/1000\n",
            "6/6 [==============================] - 0s 22ms/step - loss: 0.0011\n",
            "Epoch 171/1000\n",
            "6/6 [==============================] - 0s 20ms/step - loss: 0.0010\n",
            "Epoch 172/1000\n",
            "6/6 [==============================] - 0s 20ms/step - loss: 0.0011\n",
            "Epoch 173/1000\n",
            "6/6 [==============================] - 0s 18ms/step - loss: 0.0011\n",
            "Epoch 174/1000\n",
            "6/6 [==============================] - 0s 21ms/step - loss: 0.0010\n",
            "Epoch 175/1000\n",
            "6/6 [==============================] - 0s 21ms/step - loss: 0.0010\n",
            "Epoch 176/1000\n",
            "6/6 [==============================] - 0s 18ms/step - loss: 0.0010\n",
            "Epoch 177/1000\n",
            "6/6 [==============================] - 0s 18ms/step - loss: 0.0010\n",
            "Epoch 178/1000\n",
            "6/6 [==============================] - 0s 18ms/step - loss: 0.0010\n",
            "Epoch 179/1000\n",
            "6/6 [==============================] - 0s 20ms/step - loss: 0.0010\n",
            "Epoch 180/1000\n",
            "6/6 [==============================] - 0s 17ms/step - loss: 0.0010\n",
            "Epoch 181/1000\n",
            "6/6 [==============================] - 0s 17ms/step - loss: 0.0010\n",
            "Epoch 182/1000\n",
            "6/6 [==============================] - 0s 18ms/step - loss: 0.0010\n",
            "Epoch 183/1000\n",
            "6/6 [==============================] - 0s 20ms/step - loss: 0.0010\n",
            "Epoch 184/1000\n",
            "6/6 [==============================] - 0s 19ms/step - loss: 0.0010\n",
            "Epoch 185/1000\n",
            "6/6 [==============================] - 0s 18ms/step - loss: 0.0010\n",
            "Epoch 186/1000\n",
            "6/6 [==============================] - 0s 21ms/step - loss: 0.0010\n",
            "Epoch 187/1000\n",
            "6/6 [==============================] - 0s 17ms/step - loss: 9.9314e-04\n",
            "Epoch 188/1000\n",
            "6/6 [==============================] - 0s 18ms/step - loss: 0.0010\n",
            "Epoch 189/1000\n",
            "6/6 [==============================] - 0s 17ms/step - loss: 0.0010\n",
            "Epoch 190/1000\n",
            "6/6 [==============================] - 0s 19ms/step - loss: 9.9255e-04\n",
            "Epoch 191/1000\n",
            "6/6 [==============================] - 0s 18ms/step - loss: 9.8430e-04\n",
            "Epoch 192/1000\n",
            "6/6 [==============================] - 0s 24ms/step - loss: 9.8630e-04\n",
            "Epoch 193/1000\n",
            "6/6 [==============================] - 0s 19ms/step - loss: 9.7004e-04\n",
            "Epoch 194/1000\n",
            "6/6 [==============================] - 0s 18ms/step - loss: 9.7073e-04\n",
            "Epoch 195/1000\n",
            "6/6 [==============================] - 0s 18ms/step - loss: 9.6600e-04\n",
            "Epoch 196/1000\n",
            "6/6 [==============================] - 0s 19ms/step - loss: 9.5611e-04\n",
            "Epoch 197/1000\n",
            "6/6 [==============================] - 0s 20ms/step - loss: 9.6897e-04\n",
            "Epoch 198/1000\n",
            "6/6 [==============================] - 0s 23ms/step - loss: 9.5680e-04\n",
            "Epoch 199/1000\n",
            "6/6 [==============================] - 0s 20ms/step - loss: 9.4350e-04\n",
            "Epoch 200/1000\n",
            "6/6 [==============================] - 0s 22ms/step - loss: 9.6801e-04\n",
            "Epoch 201/1000\n",
            "6/6 [==============================] - 0s 19ms/step - loss: 9.9994e-04\n",
            "Epoch 202/1000\n",
            "6/6 [==============================] - 0s 18ms/step - loss: 9.9227e-04\n",
            "Epoch 203/1000\n",
            "6/6 [==============================] - 0s 20ms/step - loss: 9.7242e-04\n",
            "Epoch 204/1000\n",
            "6/6 [==============================] - 0s 18ms/step - loss: 9.9337e-04\n",
            "Epoch 205/1000\n",
            "6/6 [==============================] - 0s 19ms/step - loss: 0.0010\n",
            "Epoch 206/1000\n",
            "6/6 [==============================] - 0s 18ms/step - loss: 9.5079e-04\n",
            "Epoch 207/1000\n",
            "6/6 [==============================] - 0s 20ms/step - loss: 9.1543e-04\n",
            "Epoch 208/1000\n",
            "6/6 [==============================] - 0s 17ms/step - loss: 9.6620e-04\n",
            "Epoch 209/1000\n",
            "6/6 [==============================] - 0s 20ms/step - loss: 9.3458e-04\n",
            "Epoch 210/1000\n",
            "6/6 [==============================] - 0s 17ms/step - loss: 9.6598e-04\n",
            "Epoch 211/1000\n",
            "6/6 [==============================] - 0s 22ms/step - loss: 9.5699e-04\n",
            "Epoch 212/1000\n",
            "6/6 [==============================] - 0s 19ms/step - loss: 9.5446e-04\n",
            "Epoch 213/1000\n",
            "6/6 [==============================] - 0s 18ms/step - loss: 9.2664e-04\n",
            "Epoch 214/1000\n",
            "6/6 [==============================] - 0s 26ms/step - loss: 9.1359e-04\n",
            "Epoch 215/1000\n",
            "6/6 [==============================] - 0s 33ms/step - loss: 9.2357e-04\n",
            "Epoch 216/1000\n",
            "6/6 [==============================] - 0s 33ms/step - loss: 9.3468e-04\n",
            "Epoch 217/1000\n",
            "6/6 [==============================] - 0s 32ms/step - loss: 9.1964e-04\n",
            "Epoch 218/1000\n",
            "6/6 [==============================] - 0s 31ms/step - loss: 9.7879e-04\n",
            "Epoch 219/1000\n",
            "6/6 [==============================] - 0s 30ms/step - loss: 9.3228e-04\n",
            "Epoch 220/1000\n",
            "6/6 [==============================] - 0s 35ms/step - loss: 8.9085e-04\n",
            "Epoch 221/1000\n",
            "6/6 [==============================] - 0s 34ms/step - loss: 8.9077e-04\n",
            "Epoch 222/1000\n",
            "6/6 [==============================] - 0s 33ms/step - loss: 9.0600e-04\n",
            "Epoch 223/1000\n",
            "6/6 [==============================] - 0s 31ms/step - loss: 9.4033e-04\n",
            "Epoch 224/1000\n",
            "6/6 [==============================] - 0s 30ms/step - loss: 9.0378e-04\n",
            "Epoch 225/1000\n",
            "6/6 [==============================] - 0s 30ms/step - loss: 8.8710e-04\n",
            "Epoch 226/1000\n",
            "6/6 [==============================] - 0s 31ms/step - loss: 8.6827e-04\n",
            "Epoch 227/1000\n",
            "6/6 [==============================] - 0s 33ms/step - loss: 8.7277e-04\n",
            "Epoch 228/1000\n",
            "6/6 [==============================] - 0s 30ms/step - loss: 8.6781e-04\n",
            "Epoch 229/1000\n",
            "6/6 [==============================] - 0s 33ms/step - loss: 9.2597e-04\n",
            "Epoch 230/1000\n",
            "6/6 [==============================] - 0s 38ms/step - loss: 9.0299e-04\n",
            "Epoch 231/1000\n",
            "6/6 [==============================] - 0s 31ms/step - loss: 8.7175e-04\n",
            "Epoch 232/1000\n",
            "6/6 [==============================] - 0s 25ms/step - loss: 8.5536e-04\n",
            "Epoch 233/1000\n",
            "6/6 [==============================] - 0s 18ms/step - loss: 8.5167e-04\n",
            "Epoch 234/1000\n",
            "6/6 [==============================] - 0s 22ms/step - loss: 8.7086e-04\n",
            "Epoch 235/1000\n",
            "6/6 [==============================] - 0s 18ms/step - loss: 8.7808e-04\n",
            "Epoch 236/1000\n",
            "6/6 [==============================] - 0s 20ms/step - loss: 8.8033e-04\n",
            "Epoch 237/1000\n",
            "6/6 [==============================] - 0s 19ms/step - loss: 9.0749e-04\n",
            "Epoch 238/1000\n",
            "6/6 [==============================] - 0s 18ms/step - loss: 9.0299e-04\n",
            "Epoch 239/1000\n",
            "6/6 [==============================] - 0s 19ms/step - loss: 8.6388e-04\n",
            "Epoch 240/1000\n",
            "6/6 [==============================] - 0s 22ms/step - loss: 8.4362e-04\n",
            "Epoch 241/1000\n",
            "6/6 [==============================] - 0s 20ms/step - loss: 8.3830e-04\n",
            "Epoch 242/1000\n",
            "6/6 [==============================] - 0s 19ms/step - loss: 8.4077e-04\n",
            "Epoch 243/1000\n",
            "6/6 [==============================] - 0s 18ms/step - loss: 8.5686e-04\n",
            "Epoch 244/1000\n",
            "6/6 [==============================] - 0s 20ms/step - loss: 8.5952e-04\n",
            "Epoch 245/1000\n",
            "6/6 [==============================] - 0s 19ms/step - loss: 8.9938e-04\n",
            "Epoch 246/1000\n",
            "6/6 [==============================] - 0s 21ms/step - loss: 8.7301e-04\n",
            "Epoch 247/1000\n",
            "6/6 [==============================] - 0s 19ms/step - loss: 8.2567e-04\n",
            "Epoch 248/1000\n",
            "6/6 [==============================] - 0s 19ms/step - loss: 8.1737e-04\n",
            "Epoch 249/1000\n",
            "6/6 [==============================] - 0s 18ms/step - loss: 8.4311e-04\n",
            "Epoch 250/1000\n",
            "6/6 [==============================] - 0s 18ms/step - loss: 8.3307e-04\n",
            "Epoch 251/1000\n",
            "6/6 [==============================] - 0s 19ms/step - loss: 8.3139e-04\n",
            "Epoch 252/1000\n",
            "6/6 [==============================] - 0s 18ms/step - loss: 9.1473e-04\n",
            "Epoch 253/1000\n",
            "6/6 [==============================] - 0s 19ms/step - loss: 8.4125e-04\n",
            "Epoch 254/1000\n",
            "6/6 [==============================] - 0s 24ms/step - loss: 8.4321e-04\n",
            "Epoch 255/1000\n",
            "6/6 [==============================] - 0s 21ms/step - loss: 8.7767e-04\n",
            "Epoch 256/1000\n",
            "6/6 [==============================] - 0s 19ms/step - loss: 8.4797e-04\n",
            "Epoch 257/1000\n",
            "6/6 [==============================] - 0s 19ms/step - loss: 8.2785e-04\n",
            "Epoch 258/1000\n",
            "6/6 [==============================] - 0s 18ms/step - loss: 8.1548e-04\n",
            "Epoch 259/1000\n",
            "6/6 [==============================] - 0s 18ms/step - loss: 7.9552e-04\n",
            "Epoch 260/1000\n",
            "6/6 [==============================] - 0s 20ms/step - loss: 7.9710e-04\n",
            "Epoch 261/1000\n",
            "6/6 [==============================] - 0s 19ms/step - loss: 7.9667e-04\n",
            "Epoch 262/1000\n",
            "6/6 [==============================] - 0s 20ms/step - loss: 8.0277e-04\n",
            "Epoch 263/1000\n",
            "6/6 [==============================] - 0s 21ms/step - loss: 7.9401e-04\n",
            "Epoch 264/1000\n",
            "6/6 [==============================] - 0s 20ms/step - loss: 8.0385e-04\n",
            "Epoch 265/1000\n",
            "6/6 [==============================] - 0s 20ms/step - loss: 7.9545e-04\n",
            "Epoch 266/1000\n",
            "6/6 [==============================] - 0s 19ms/step - loss: 7.9490e-04\n",
            "Epoch 267/1000\n",
            "6/6 [==============================] - 0s 18ms/step - loss: 7.9484e-04\n",
            "Epoch 268/1000\n",
            "6/6 [==============================] - 0s 20ms/step - loss: 8.0652e-04\n",
            "Epoch 269/1000\n",
            "6/6 [==============================] - 0s 19ms/step - loss: 7.7260e-04\n",
            "Epoch 270/1000\n",
            "6/6 [==============================] - 0s 18ms/step - loss: 7.7094e-04\n",
            "Epoch 271/1000\n",
            "6/6 [==============================] - 0s 19ms/step - loss: 7.7030e-04\n",
            "Epoch 272/1000\n",
            "6/6 [==============================] - 0s 20ms/step - loss: 7.7435e-04\n",
            "Epoch 273/1000\n",
            "6/6 [==============================] - 0s 22ms/step - loss: 7.8912e-04\n",
            "Epoch 274/1000\n",
            "6/6 [==============================] - 0s 20ms/step - loss: 7.6935e-04\n",
            "Epoch 275/1000\n",
            "6/6 [==============================] - 0s 18ms/step - loss: 7.8577e-04\n",
            "Epoch 276/1000\n",
            "6/6 [==============================] - 0s 19ms/step - loss: 7.5514e-04\n",
            "Epoch 277/1000\n",
            "6/6 [==============================] - 0s 18ms/step - loss: 7.6453e-04\n",
            "Epoch 278/1000\n",
            "6/6 [==============================] - 0s 18ms/step - loss: 7.6948e-04\n",
            "Epoch 279/1000\n",
            "6/6 [==============================] - 0s 19ms/step - loss: 8.1658e-04\n",
            "Epoch 280/1000\n",
            "6/6 [==============================] - 0s 18ms/step - loss: 7.6439e-04\n",
            "Epoch 281/1000\n",
            "6/6 [==============================] - 0s 20ms/step - loss: 7.6820e-04\n",
            "Epoch 282/1000\n",
            "6/6 [==============================] - 0s 20ms/step - loss: 7.5780e-04\n",
            "Epoch 283/1000\n",
            "6/6 [==============================] - 0s 19ms/step - loss: 7.5144e-04\n",
            "Epoch 284/1000\n",
            "6/6 [==============================] - 0s 23ms/step - loss: 7.5811e-04\n",
            "Epoch 285/1000\n",
            "6/6 [==============================] - 0s 19ms/step - loss: 7.6077e-04\n",
            "Epoch 286/1000\n",
            "6/6 [==============================] - 0s 20ms/step - loss: 7.5590e-04\n",
            "Epoch 287/1000\n",
            "6/6 [==============================] - 0s 18ms/step - loss: 7.4289e-04\n",
            "Epoch 288/1000\n",
            "6/6 [==============================] - 0s 18ms/step - loss: 7.4518e-04\n",
            "Epoch 289/1000\n",
            "6/6 [==============================] - 0s 18ms/step - loss: 7.6694e-04\n",
            "Epoch 290/1000\n",
            "6/6 [==============================] - 0s 21ms/step - loss: 7.4391e-04\n",
            "Epoch 291/1000\n",
            "6/6 [==============================] - 0s 18ms/step - loss: 7.4968e-04\n",
            "Epoch 292/1000\n",
            "6/6 [==============================] - 0s 19ms/step - loss: 7.4301e-04\n",
            "Epoch 293/1000\n",
            "6/6 [==============================] - 0s 21ms/step - loss: 7.5377e-04\n",
            "Epoch 294/1000\n",
            "6/6 [==============================] - 0s 19ms/step - loss: 7.3132e-04\n",
            "Epoch 295/1000\n",
            "6/6 [==============================] - 0s 18ms/step - loss: 7.4907e-04\n",
            "Epoch 296/1000\n",
            "6/6 [==============================] - 0s 19ms/step - loss: 7.6546e-04\n",
            "Epoch 297/1000\n",
            "6/6 [==============================] - 0s 18ms/step - loss: 7.4997e-04\n",
            "Epoch 298/1000\n",
            "6/6 [==============================] - 0s 21ms/step - loss: 7.3570e-04\n",
            "Epoch 299/1000\n",
            "6/6 [==============================] - 0s 20ms/step - loss: 7.6009e-04\n",
            "Epoch 300/1000\n",
            "6/6 [==============================] - 0s 19ms/step - loss: 7.2587e-04\n",
            "Epoch 301/1000\n",
            "6/6 [==============================] - 0s 20ms/step - loss: 7.2197e-04\n",
            "Epoch 302/1000\n",
            "6/6 [==============================] - 0s 18ms/step - loss: 7.2591e-04\n",
            "Epoch 303/1000\n",
            "6/6 [==============================] - 0s 20ms/step - loss: 7.5687e-04\n",
            "Epoch 304/1000\n",
            "6/6 [==============================] - 0s 18ms/step - loss: 7.2057e-04\n",
            "Epoch 305/1000\n",
            "6/6 [==============================] - 0s 18ms/step - loss: 7.4391e-04\n",
            "Epoch 306/1000\n",
            "6/6 [==============================] - 0s 21ms/step - loss: 7.1797e-04\n",
            "Epoch 307/1000\n",
            "6/6 [==============================] - 0s 21ms/step - loss: 7.0572e-04\n",
            "Epoch 308/1000\n",
            "6/6 [==============================] - 0s 18ms/step - loss: 7.1728e-04\n",
            "Epoch 309/1000\n",
            "6/6 [==============================] - 0s 20ms/step - loss: 7.0872e-04\n",
            "Epoch 310/1000\n",
            "6/6 [==============================] - 0s 18ms/step - loss: 7.1479e-04\n",
            "Epoch 311/1000\n",
            "6/6 [==============================] - 0s 18ms/step - loss: 7.2335e-04\n",
            "Epoch 312/1000\n",
            "6/6 [==============================] - 0s 31ms/step - loss: 7.0350e-04\n",
            "Epoch 313/1000\n",
            "6/6 [==============================] - 0s 33ms/step - loss: 7.1601e-04\n",
            "Epoch 314/1000\n",
            "6/6 [==============================] - 0s 35ms/step - loss: 7.1076e-04\n",
            "Epoch 315/1000\n",
            "6/6 [==============================] - 0s 35ms/step - loss: 7.1931e-04\n",
            "Epoch 316/1000\n",
            "6/6 [==============================] - 0s 36ms/step - loss: 7.0443e-04\n",
            "Epoch 317/1000\n",
            "6/6 [==============================] - 0s 33ms/step - loss: 7.0122e-04\n",
            "Epoch 318/1000\n",
            "6/6 [==============================] - 0s 32ms/step - loss: 7.2341e-04\n",
            "Epoch 319/1000\n",
            "6/6 [==============================] - 0s 32ms/step - loss: 7.5954e-04\n",
            "Epoch 320/1000\n",
            "6/6 [==============================] - 0s 36ms/step - loss: 7.3570e-04\n",
            "Epoch 321/1000\n",
            "6/6 [==============================] - 0s 34ms/step - loss: 7.0354e-04\n",
            "Epoch 322/1000\n",
            "6/6 [==============================] - 0s 34ms/step - loss: 6.9776e-04\n",
            "Epoch 323/1000\n",
            "6/6 [==============================] - 0s 31ms/step - loss: 7.0688e-04\n",
            "Epoch 324/1000\n",
            "6/6 [==============================] - 0s 33ms/step - loss: 7.0471e-04\n",
            "Epoch 325/1000\n",
            "6/6 [==============================] - 0s 35ms/step - loss: 6.9010e-04\n",
            "Epoch 326/1000\n",
            "6/6 [==============================] - 0s 32ms/step - loss: 6.9427e-04\n",
            "Epoch 327/1000\n",
            "6/6 [==============================] - 0s 28ms/step - loss: 6.9554e-04\n",
            "Epoch 328/1000\n",
            "6/6 [==============================] - 0s 33ms/step - loss: 7.3569e-04\n",
            "Epoch 329/1000\n",
            "6/6 [==============================] - 0s 22ms/step - loss: 6.7928e-04\n",
            "Epoch 330/1000\n",
            "6/6 [==============================] - 0s 19ms/step - loss: 7.0584e-04\n",
            "Epoch 331/1000\n",
            "6/6 [==============================] - 0s 18ms/step - loss: 7.0107e-04\n",
            "Epoch 332/1000\n",
            "6/6 [==============================] - 0s 18ms/step - loss: 6.9564e-04\n",
            "Epoch 333/1000\n",
            "6/6 [==============================] - 0s 19ms/step - loss: 7.4673e-04\n",
            "Epoch 334/1000\n",
            "6/6 [==============================] - 0s 19ms/step - loss: 7.1937e-04\n",
            "Epoch 335/1000\n",
            "6/6 [==============================] - 0s 18ms/step - loss: 6.8087e-04\n",
            "Epoch 336/1000\n",
            "6/6 [==============================] - 0s 20ms/step - loss: 6.9072e-04\n",
            "Epoch 337/1000\n",
            "6/6 [==============================] - 0s 21ms/step - loss: 6.9302e-04\n",
            "Epoch 338/1000\n",
            "6/6 [==============================] - 0s 18ms/step - loss: 6.7839e-04\n",
            "Epoch 339/1000\n",
            "6/6 [==============================] - 0s 20ms/step - loss: 7.0180e-04\n",
            "Epoch 340/1000\n",
            "6/6 [==============================] - 0s 18ms/step - loss: 7.0095e-04\n",
            "Epoch 341/1000\n",
            "6/6 [==============================] - 0s 19ms/step - loss: 6.8695e-04\n",
            "Epoch 342/1000\n",
            "6/6 [==============================] - 0s 19ms/step - loss: 6.6729e-04\n",
            "Epoch 343/1000\n",
            "6/6 [==============================] - 0s 18ms/step - loss: 6.8579e-04\n",
            "Epoch 344/1000\n",
            "6/6 [==============================] - 0s 18ms/step - loss: 6.8547e-04\n",
            "Epoch 345/1000\n",
            "6/6 [==============================] - 0s 24ms/step - loss: 6.8774e-04\n",
            "Epoch 346/1000\n",
            "6/6 [==============================] - 0s 21ms/step - loss: 6.6376e-04\n",
            "Epoch 347/1000\n",
            "6/6 [==============================] - 0s 20ms/step - loss: 6.5993e-04\n",
            "Epoch 348/1000\n",
            "6/6 [==============================] - 0s 18ms/step - loss: 6.6841e-04\n",
            "Epoch 349/1000\n",
            "6/6 [==============================] - 0s 21ms/step - loss: 6.6474e-04\n",
            "Epoch 350/1000\n",
            "6/6 [==============================] - 0s 18ms/step - loss: 6.5684e-04\n",
            "Epoch 351/1000\n",
            "6/6 [==============================] - 0s 20ms/step - loss: 6.7328e-04\n",
            "Epoch 352/1000\n",
            "6/6 [==============================] - 0s 19ms/step - loss: 7.0500e-04\n",
            "Epoch 353/1000\n",
            "6/6 [==============================] - 0s 21ms/step - loss: 6.7248e-04\n",
            "Epoch 354/1000\n",
            "6/6 [==============================] - 0s 20ms/step - loss: 7.0163e-04\n",
            "Epoch 355/1000\n",
            "6/6 [==============================] - 0s 21ms/step - loss: 7.2742e-04\n",
            "Epoch 356/1000\n",
            "6/6 [==============================] - 0s 19ms/step - loss: 6.7850e-04\n",
            "Epoch 357/1000\n",
            "6/6 [==============================] - 0s 21ms/step - loss: 6.7875e-04\n",
            "Epoch 358/1000\n",
            "6/6 [==============================] - 0s 18ms/step - loss: 6.9652e-04\n",
            "Epoch 359/1000\n",
            "6/6 [==============================] - 0s 18ms/step - loss: 7.6521e-04\n",
            "Epoch 360/1000\n",
            "6/6 [==============================] - 0s 18ms/step - loss: 7.3808e-04\n"
          ]
        },
        {
          "output_type": "execute_result",
          "data": {
            "text/plain": [
              "<keras.callbacks.History at 0x7ff3082fc6a0>"
            ]
          },
          "metadata": {},
          "execution_count": 14
        }
      ]
    },
    {
      "cell_type": "markdown",
      "metadata": {
        "id": "Zf9f0GvrSw0C"
      },
      "source": [
        "**Task 4: test**\n",
        "\n",
        "Evaluate the model on the test set and display any change in accuracy over time, if any. Test for common issues found ion deep learning models.\n"
      ]
    },
    {
      "cell_type": "code",
      "source": [
        "# predictions = simple_rnn.predict(x_test)\n",
        "\n",
        "# # Convert the predictions back to the original scale\n",
        "# predictions = scaler.inverse_transform(predictions)\n",
        "\n",
        "# # Convert the predictions back to a dataframe\n",
        "# predictions = pd.DataFrame(predictions, columns=['Predicted'], index=test_data.index)\n",
        "y_predictions = simple_rnn.predict(x_test)\n",
        "print(y_predictions.shape)"
      ],
      "metadata": {
        "colab": {
          "base_uri": "https://localhost:8080/"
        },
        "id": "QZjKKzeCO9Ur",
        "outputId": "94a2c584-b41c-4bc6-adb8-7cfae2c61321"
      },
      "execution_count": 15,
      "outputs": [
        {
          "output_type": "stream",
          "name": "stdout",
          "text": [
            "6/6 [==============================] - 0s 6ms/step\n",
            "(183, 1)\n"
          ]
        }
      ]
    },
    {
      "cell_type": "code",
      "source": [
        "\n",
        "y_test_denormalized = y_test * (y_train_max - y_train_min) + y_train_min\n",
        "y_predictions_denormalized = y_predictions * (y_train_max - y_train_min) + y_train_min\n",
        "y_test_denormalized = y_test_denormalized.reshape(-1,)\n",
        "y_predictions_denormalized = y_predictions_denormalized.reshape(-1,)\n",
        "plt.plot(y_test_denormalized, label=\"Stock Price\")\n",
        "plt.plot(y_predictions_denormalized, label=\"Predicted\")\n",
        "plt.legend()\n",
        "plt.show()"
      ],
      "metadata": {
        "colab": {
          "base_uri": "https://localhost:8080/",
          "height": 265
        },
        "id": "0TFVNCwYv1Bv",
        "outputId": "e69992aa-f2c3-4cc0-d48b-1c864ee7bd0c"
      },
      "execution_count": 16,
      "outputs": [
        {
          "output_type": "display_data",
          "data": {
            "text/plain": [
              "<Figure size 432x288 with 1 Axes>"
            ],
            "image/png": "[encoded data removed]"
          },
          "metadata": {
            "needs_background": "light"
          }
        }
      ]
    },
    {
      "cell_type": "markdown",
      "metadata": {
        "id": "6GjyThUsSw0D"
      },
      "source": [
        "### Post (complete by Monday 13/02/23)\n",
        "\n",
        "Post your solution to Tasks 1-4 in notebook form. If you have not completed all the tasks then that is acceptable. The purpose is to get feedback from others in the group, so if you have only a basic outline then you may get ideas about how to proceed and also examples from others in your group.\n",
        "\n",
        "No posts should reference Task 5."
      ]
    },
    {
      "cell_type": "markdown",
      "metadata": {
        "id": "ZJ3KZW5OSw0D"
      },
      "source": [
        "### Respond (complete by Wednesday 15/02/23)\n",
        "\n",
        "If you feel you can provide useful advise then respond to another member of the group through the appropriate forum. Responses should be respectful and offer some sort of advise. Try and avoid clogging the forums with support or thank you messages.\n",
        "\n",
        "In reviewing others code you will discover different ways to tackle the same problem. It is acceptable to copy parts of others code. However whole scale copying from another notebook is not acceptable."
      ]
    },
    {
      "cell_type": "markdown",
      "metadata": {
        "id": "hQCewgYdSw0E"
      },
      "source": [
        "Grading guidelines for the forum posts: Weight [2/7]\n",
        "\n",
        "**Beginning [0-8]:** Respectful posts of minor value. Significant number of posts without valuable contributions and/or without well-considered questions. Posts about task 5 in contravention of instructions.\n",
        "\n",
        "**Developing [9-12]:** At least 1 post  exceeding Beginning level with respectful suggestion or thought provoking question. Most posts contain valuable contributions or well-considered questions.\n",
        "\n",
        "**Advancing [13-16]:** At least 2 posts: equal to or exceeding Beginning level;  with respectful and sound contribution highlighting mistakes or alternative approaches.\n",
        "\n",
        "**Accomplished [17-20]:** At least 3 posts: equal to or exceeding Accomplished level; with respectful contribution of significant value. "
      ]
    },
    {
      "cell_type": "markdown",
      "metadata": {
        "id": "oUlgfmWKSw0F"
      },
      "source": [
        "<a id='part2'></a>\n",
        "## Sentiment Analysis\n",
        "\n",
        "\n",
        "This task is a individual task and should **not** to be uploaded to GitHub. No direct support should be given via the forums, although comments about progress or results are allowed. Marks will be deducted if the instructions are not followed (see rubrics). This part should be uploaded directly to Sulis.\n",
        "\n",
        "### Context\n",
        "\n",
        "You have a model that predicts the sentiment of a film review (positive or negative) from the IMDB. There are two hyperparameters that format the data from IMDB: the maximum review length and the dictionary size. Below is a RNN model that predicts sentiment values. \n",
        "\n",
        "\n",
        "### Task 5:  (completed by Sunday 19/02/23)\n",
        "\n",
        "Keeping top_words, max_review_lenngth and the embedding_vector_length the same, change the model so that it uses attention only, i.e. there are no recurrent components. The only Keras layers (defined here https://www.tensorflow.org/api_docs/python/tf/keras/layers) that you allowed to use are:\n",
        "- Input,\n",
        "- Embedding, \n",
        "- Dense, \n",
        "- Any Attention (must be at leat one),\n",
        "- TimeDistributed,\n",
        "- Any Merging,\n",
        "- Any Reshaping,\n",
        "- Any Pooling,\n",
        "- Dropout. \n",
        "\n",
        "You need not use any of the layers (except attention) but you can use some more than once. Can you do at least as good as the RNN example?\n",
        "\n",
        "**NB** There are many examples of using attention for sentiment analysis but we looking to see if you can construct a sensible model. The model will be delibrately restricted, so do not waste too much time achieving spectacular accuracy. Remember the rules of thumb that we discussed in the Introduction to DL module.\n"
      ]
    },
    {
      "cell_type": "code",
      "execution_count": 17,
      "metadata": {
        "colab": {
          "base_uri": "https://localhost:8080/"
        },
        "id": "0rSrVgfaSw0G",
        "outputId": "3cca22ff-50b1-44c1-f6ff-782f2fe7a3d6"
      },
      "outputs": [
        {
          "output_type": "stream",
          "name": "stdout",
          "text": [
            "(25000, 500)\n"
          ]
        }
      ],
      "source": [
        "from tensorflow.keras.datasets import imdb\n",
        "from tensorflow.keras import Sequential\n",
        "from tensorflow.keras.layers import Dense, LSTM, Embedding, Dropout\n",
        "from tensorflow.keras.preprocessing import sequence\n",
        "from tensorflow.keras.utils import plot_model\n",
        "\n",
        "import matplotlib.pyplot as plt\n",
        "import numpy as np\n",
        "\n",
        "top_words = 100\n",
        "(Rev_train, Sc_train), (Rev_test, Sc_test) = imdb.load_data(num_words=top_words)\n",
        "\n",
        "max_review_length = 500\n",
        "X_train = sequence.pad_sequences(Rev_train, maxlen=max_review_length)\n",
        "X_test = sequence.pad_sequences(Rev_test, maxlen=max_review_length)\n",
        "print(X_train.shape)"
      ]
    },
    {
      "cell_type": "code",
      "execution_count": 18,
      "metadata": {
        "colab": {
          "base_uri": "https://localhost:8080/",
          "height": 991
        },
        "id": "eBVLA9CuSw0I",
        "outputId": "156743d7-f6e1-4367-a138-e66a60713af2"
      },
      "outputs": [
        {
          "output_type": "stream",
          "name": "stdout",
          "text": [
            "Model: \"sequential\"\n",
            "_________________________________________________________________\n",
            " Layer (type)                Output Shape              Param #   \n",
            "=================================================================\n",
            " embedding (Embedding)       (None, 500, 16)           1600      \n",
            "                                                                 \n",
            " dropout (Dropout)           (None, 500, 16)           0         \n",
            "                                                                 \n",
            " lstm (LSTM)                 (None, 10)                1080      \n",
            "                                                                 \n",
            " dropout_1 (Dropout)         (None, 10)                0         \n",
            "                                                                 \n",
            " dense_1 (Dense)             (None, 1)                 11        \n",
            "                                                                 \n",
            "=================================================================\n",
            "Total params: 2,691\n",
            "Trainable params: 2,691\n",
            "Non-trainable params: 0\n",
            "_________________________________________________________________\n",
            "None\n"
          ]
        },
        {
          "output_type": "execute_result",
          "data": {
            "image/png": "[encoded data removed]",
            "text/plain": [
              "<IPython.core.display.Image object>"
            ]
          },
          "metadata": {},
          "execution_count": 18
        }
      ],
      "source": [
        "embedding_vector_length = 16\n",
        "model_imdb = Sequential()\n",
        "model_imdb.add(Embedding(top_words, embedding_vector_length, input_length=max_review_length))\n",
        "model_imdb.add(Dropout(0.2))\n",
        "model_imdb.add(LSTM(10))\n",
        "model_imdb.add(Dropout(0.2))\n",
        "model_imdb.add(Dense(1, activation='sigmoid'))\n",
        "model_imdb.compile(loss='binary_crossentropy', optimizer='adam', metrics=['accuracy'])\n",
        "print(model_imdb.summary())\n",
        "plot_model(model_imdb,show_shapes=True)"
      ]
    },
    {
      "cell_type": "markdown",
      "metadata": {
        "id": "-5zadNxlSw0J"
      },
      "source": [
        "\n",
        "The history for the model above has been saved, as it takes a while to run. If you want to run it yourself then comment out the second line.\n"
      ]
    },
    {
      "cell_type": "code",
      "execution_count": 19,
      "metadata": {
        "colab": {
          "base_uri": "https://localhost:8080/",
          "height": 282
        },
        "id": "DhqRDaoHSw0K",
        "outputId": "df0408e0-fbeb-4d00-dab2-b66b26176527"
      },
      "outputs": [
        {
          "output_type": "execute_result",
          "data": {
            "text/plain": [
              "[]"
            ]
          },
          "metadata": {},
          "execution_count": 19
        },
        {
          "output_type": "display_data",
          "data": {
            "text/plain": [
              "<Figure size 432x288 with 1 Axes>"
            ],
            "image/png": "[encoded data removed]"
          },
          "metadata": {
            "needs_background": "light"
          }
        }
      ],
      "source": [
        "nepoch = 150\n",
        "#IMDB_history = model_imdb.fit(X_train,Sc_train,validation_data=(X_test,Sc_test),epochs=nepoch,batch_size=256)\n",
        "IMDB_history=np.load('IMDBTrainhist.npy',allow_pickle='TRUE').item()\n",
        "plt.plot(range(nepoch),IMDB_history['loss'],c='r')\n",
        "plt.plot(range(nepoch),IMDB_history['val_loss'],c='b')\n",
        "plt.plot()"
      ]
    },
    {
      "cell_type": "code",
      "execution_count": 20,
      "metadata": {
        "colab": {
          "base_uri": "https://localhost:8080/",
          "height": 282
        },
        "id": "5Wp3CgzDSw0K",
        "outputId": "bf42b01e-4619-42c6-cbed-51eb1fc07a2c"
      },
      "outputs": [
        {
          "output_type": "execute_result",
          "data": {
            "text/plain": [
              "[]"
            ]
          },
          "metadata": {},
          "execution_count": 20
        },
        {
          "output_type": "display_data",
          "data": {
            "text/plain": [
              "<Figure size 432x288 with 1 Axes>"
            ],
            "image/png": "[encoded data removed]"
          },
          "metadata": {
            "needs_background": "light"
          }
        }
      ],
      "source": [
        "plt.plot(range(nepoch),IMDB_history['accuracy'],c='r')\n",
        "plt.plot(range(nepoch),IMDB_history['val_accuracy'],c='b')\n",
        "plt.plot()"
      ]
    },
    {
      "cell_type": "markdown",
      "metadata": {
        "id": "6vaPsr2VSw0L"
      },
      "source": [
        "### Final Submission (complete by Sunday 19/02/23)\n",
        "\n",
        "Submit Tasks 1-5 in a single notebook this before the deadline on Sunday.\n"
      ]
    },
    {
      "cell_type": "code",
      "execution_count": 21,
      "metadata": {
        "id": "97BJTjgKSw0L"
      },
      "outputs": [],
      "source": [
        "## Add additional code cells to implememt the tasks stated above "
      ]
    },
    {
      "cell_type": "markdown",
      "metadata": {
        "id": "OaAhhgSBSw0L"
      },
      "source": [
        "## Reflection\n",
        "\n",
        "There are no specific marks allocated for a reflection. However due consideration will be given if pertinent comments or valuable insights are made."
      ]
    },
    {
      "cell_type": "code",
      "execution_count": 21,
      "metadata": {
        "id": "UiiHR5-1Sw0M"
      },
      "outputs": [],
      "source": []
    }
  ],
  "metadata": {
    "kernelspec": {
      "display_name": "Python 3 (ipykernel)",
      "language": "python",
      "name": "python3"
    },
    "language_info": {
      "codemirror_mode": {
        "name": "ipython",
        "version": 3
      },
      "file_extension": ".py",
      "mimetype": "text/x-python",
      "name": "python",
      "nbconvert_exporter": "python",
      "pygments_lexer": "ipython3",
      "version": "3.9.15"
    },
    "latex_envs": {
      "LaTeX_envs_menu_present": true,
      "autoclose": false,
      "autocomplete": true,
      "bibliofile": "biblio.bib",
      "cite_by": "apalike",
      "current_citInitial": 1,
      "eqLabelWithNumbers": true,
      "eqNumInitial": 1,
      "hotkeys": {
        "equation": "Ctrl-E",
        "itemize": "Ctrl-I"
      },
      "labels_anchors": false,
      "latex_user_defs": false,
      "report_style_numbering": false,
      "user_envs_cfg": false
    },
    "colab": {
      "provenance": []
    }
  },
  "nbformat": 4,
  "nbformat_minor": 0
}