{
  "cells": [
    {
      "cell_type": "markdown",
      "metadata": {
        "id": "hZTZKxJcH-2y"
      },
      "source": [
        "# E-tivity 1 (23/01/23 - 05/02/23)\n",
        "\n",
        "* Your Name : Raymond Mc Creesh\n",
        "\n",
        "* Your Student ID : 15211428"
      ]
    },
    {
      "cell_type": "markdown",
      "metadata": {
        "id": "YOmL579kH-29"
      },
      "source": [
        "## Anomaly Detection\n",
        "\n",
        "### Context\n",
        "We have a mystery dataset. There are 9 explanatory variables and one response variable. The response variable is the last column and indicates if the sample is anomalous (=1, valid =0). The dataset is provided \"data.csv\". \n",
        "\n",
        "Of course in this case we could use supervised learning to generate a model and detect anomalies in new data. However the focus is on autoencoders, anomaly detection is just one of the potential uses for autoencoders.\n",
        "\n",
        "So we are going to pretend that we do not know which data are anomalous but we do know that the anomaly rate is small. Use an autoencoder to detect anomalies in the data. The correctness of the model can of course be checked."
      ]
    },
    {
      "cell_type": "code",
      "source": [
        "from __future__ import absolute_import\n",
        "from __future__ import division\n",
        "from __future__ import print_function\n",
        "\n",
        "# Load the module we need\n",
        "# Note that we are import the Keras backend, which is assumed to be Tensorflow\n",
        "from tensorflow.keras.layers import Input, Dense, Conv2D, Conv2DTranspose, MaxPooling2D\n",
        "from tensorflow.keras.layers import UpSampling2D, Reshape\n",
        "from tensorflow.keras.models import Model\n",
        "from tensorflow.keras.optimizers import Adagrad\n",
        "from tensorflow.keras import backend as K\n",
        "\n",
        "from tensorflow.keras.datasets import mnist\n",
        "import numpy as np\n",
        "\n",
        "import matplotlib.pyplot as plt\n",
        "\n",
        "\n",
        "\n",
        "from tensorflow.keras.layers import Lambda\n",
        "from tensorflow.keras.losses import mean_squared_error, binary_crossentropy, mse, KLDivergence\n",
        "from tensorflow.keras.utils import plot_model\n",
        "\n",
        "import pandas as pd\n",
        "import tensorflow as tf\n",
        "import numpy as np\n",
        "from sklearn.preprocessing import StandardScaler, MinMaxScaler\n",
        "from sklearn.model_selection import train_test_split\n",
        "from tensorflow.keras.layers import Input, Dense\n",
        "from tensorflow.keras.models import Model\n",
        "from tensorflow.keras.utils import plot_model\n",
        "import matplotlib.pyplot as plt\n",
        "import os"
      ],
      "metadata": {
        "id": "c20xDJgJIz2-"
      },
      "execution_count": 1,
      "outputs": []
    },
    {
      "cell_type": "markdown",
      "metadata": {
        "id": "G-oN9QA8H-2_"
      },
      "source": [
        "### Guidelines\n",
        "\n",
        "The e-tivity is split into four tasks. The first three are \"group\" excersises, in that you post the solutions to Tasks 1-3 to a site. This will allow the members of your group to send you feedback (via the forums) so you can improve your submission. The final task is an individual task and together with the other tasks, should be uploaded to Sulis but not to gitlab. \n",
        "\n",
        "Marks will be deducted if task 4 is posted to gitlab in contravention of instructions. Also if the the final submission is not a single notebook with tasks 1-4 and with correct identification or filename.\n",
        "\n",
        "Grading guidelines: the scores for each task are additive, max 20. Weight [5/7]\n",
        "\n",
        "**Task 1 [0-6]**: perform and explain the steps taken in data pre-processing for this unsupervised learning model.\n",
        "\n",
        "**Task 2 [0-4]**: correctly train model to convergence with a suitable topology and 2 encoded variables.\n",
        "\n",
        "**Task 3 [0-4]**: select and explain choice of threshold for determining the anomalous data.\n",
        "\n",
        "**Task 4 [0-6]**: implement a suitable VAE with correct testing and not uploaded to gitlab, in contravention of the instructions. "
      ]
    },
    {
      "cell_type": "markdown",
      "metadata": {
        "id": "ZwRsvI0dH-3B"
      },
      "source": [
        "## Problem\n",
        "\n",
        "If you train even a modest feed forward network via supervised learning you can get extremely good recall and precision, despite the unbalanced dataset. However in this e-tivity you will determining the anomalies by using an autoencoder. That is you will **not** be using the Anom flag to guide the training.\n",
        "\n",
        "The mystery dataset is available from the Sulis site, download the csv file and use it as the input data.\n",
        "\n",
        "### Tasks 1-3 (complete by Monday 30/01/23)\n",
        "\n",
        "These tasks are to be completed and uploaded to GitLab on which the other group members can comment. The forum activity will form part of the overall mark for the e-tivity."
      ]
    },
    {
      "cell_type": "markdown",
      "metadata": {
        "id": "wkrz66V5H-3C"
      },
      "source": [
        "**Task 1: data preprocessing**\n",
        "\n",
        "Explain any preprocessing steps you take and also how you have selected the training and test sets. Remember we do not know which samples are anomalous only that there are a small number of them compared to the total sample size.\n"
      ]
    },
    {
      "cell_type": "code",
      "source": [
        "df = pd.read_csv(\"data.csv\")"
      ],
      "metadata": {
        "id": "L9QziKUDIwAP"
      },
      "execution_count": 2,
      "outputs": []
    },
    {
      "cell_type": "code",
      "source": [
        "df.info()"
      ],
      "metadata": {
        "colab": {
          "base_uri": "https://localhost:8080/"
        },
        "id": "HlKfZ9s4JdRh",
        "outputId": "3778436e-1a39-4ad4-f782-68cf76954933"
      },
      "execution_count": 3,
      "outputs": [
        {
          "output_type": "stream",
          "name": "stdout",
          "text": [
            "<class 'pandas.core.frame.DataFrame'>\n",
            "RangeIndex: 49097 entries, 0 to 49096\n",
            "Data columns (total 10 columns):\n",
            " #   Column  Non-Null Count  Dtype\n",
            "---  ------  --------------  -----\n",
            " 0   V1      49097 non-null  int64\n",
            " 1   V2      49097 non-null  int64\n",
            " 2   V3      49097 non-null  int64\n",
            " 3   V4      49097 non-null  int64\n",
            " 4   V5      49097 non-null  int64\n",
            " 5   V6      49097 non-null  int64\n",
            " 6   V7      49097 non-null  int64\n",
            " 7   V8      49097 non-null  int64\n",
            " 8   V9      49097 non-null  int64\n",
            " 9   Anom    49097 non-null  int64\n",
            "dtypes: int64(10)\n",
            "memory usage: 3.7 MB\n"
          ]
        }
      ]
    },
    {
      "cell_type": "code",
      "source": [
        "df.describe()"
      ],
      "metadata": {
        "colab": {
          "base_uri": "https://localhost:8080/",
          "height": 364
        },
        "id": "shbhH3rQKMsn",
        "outputId": "239e1a20-03e6-4932-bc2b-11606c625b13"
      },
      "execution_count": 4,
      "outputs": [
        {
          "output_type": "execute_result",
          "data": {
            "text/plain": [
              "                 V1            V2            V3            V4            V5  \\\n",
              "count  49097.000000  49097.000000  49097.000000  49097.000000  49097.000000   \n",
              "mean      46.932399     -0.063955     85.123124      0.213231     36.871784   \n",
              "std       12.875159     84.674481      8.877517     37.579171     19.963113   \n",
              "min       27.000000  -4821.000000     21.000000  -3939.000000   -188.000000   \n",
              "25%       37.000000      0.000000     79.000000      0.000000     30.000000   \n",
              "50%       44.000000      0.000000     83.000000      0.000000     42.000000   \n",
              "75%       50.000000      0.000000     88.000000      0.000000     46.000000   \n",
              "max      126.000000   5075.000000    149.000000   3830.000000    436.000000   \n",
              "\n",
              "                 V6            V7            V8            V9          Anom  \n",
              "count  49097.000000  49097.000000  49097.000000  49097.000000  49097.000000  \n",
              "mean       2.160030     38.200725     48.288592     10.261930      0.071511  \n",
              "std      218.324964     13.446306     20.572064     23.751024      0.257680  \n",
              "min   -26739.000000    -48.000000   -353.000000   -356.000000      0.000000  \n",
              "25%       -4.000000     33.000000     35.000000      0.000000      0.000000  \n",
              "50%        0.000000     39.000000     41.000000      2.000000      0.000000  \n",
              "75%        5.000000     43.000000     55.000000      6.000000      0.000000  \n",
              "max    15164.000000    105.000000    270.000000    266.000000      1.000000  "
            ],
            "text/html": [
              "\n",
              "  <div id=\"df-2722261e-65f4-41fe-8620-d1e59d0eab90\">\n",
              "    <div class=\"colab-df-container\">\n",
              "      <div>\n",
              "<style scoped>\n",
              "    .dataframe tbody tr th:only-of-type {\n",
              "        vertical-align: middle;\n",
              "    }\n",
              "\n",
              "    .dataframe tbody tr th {\n",
              "        vertical-align: top;\n",
              "    }\n",
              "\n",
              "    .dataframe thead th {\n",
              "        text-align: right;\n",
              "    }\n",
              "</style>\n",
              "<table border=\"1\" class=\"dataframe\">\n",
              "  <thead>\n",
              "    <tr style=\"text-align: right;\">\n",
              "      <th></th>\n",
              "      <th>V1</th>\n",
              "      <th>V2</th>\n",
              "      <th>V3</th>\n",
              "      <th>V4</th>\n",
              "      <th>V5</th>\n",
              "      <th>V6</th>\n",
              "      <th>V7</th>\n",
              "      <th>V8</th>\n",
              "      <th>V9</th>\n",
              "      <th>Anom</th>\n",
              "    </tr>\n",
              "  </thead>\n",
              "  <tbody>\n",
              "    <tr>\n",
              "      <th>count</th>\n",
              "      <td>49097.000000</td>\n",
              "      <td>49097.000000</td>\n",
              "      <td>49097.000000</td>\n",
              "      <td>49097.000000</td>\n",
              "      <td>49097.000000</td>\n",
              "      <td>49097.000000</td>\n",
              "      <td>49097.000000</td>\n",
              "      <td>49097.000000</td>\n",
              "      <td>49097.000000</td>\n",
              "      <td>49097.000000</td>\n",
              "    </tr>\n",
              "    <tr>\n",
              "      <th>mean</th>\n",
              "      <td>46.932399</td>\n",
              "      <td>-0.063955</td>\n",
              "      <td>85.123124</td>\n",
              "      <td>0.213231</td>\n",
              "      <td>36.871784</td>\n",
              "      <td>2.160030</td>\n",
              "      <td>38.200725</td>\n",
              "      <td>48.288592</td>\n",
              "      <td>10.261930</td>\n",
              "      <td>0.071511</td>\n",
              "    </tr>\n",
              "    <tr>\n",
              "      <th>std</th>\n",
              "      <td>12.875159</td>\n",
              "      <td>84.674481</td>\n",
              "      <td>8.877517</td>\n",
              "      <td>37.579171</td>\n",
              "      <td>19.963113</td>\n",
              "      <td>218.324964</td>\n",
              "      <td>13.446306</td>\n",
              "      <td>20.572064</td>\n",
              "      <td>23.751024</td>\n",
              "      <td>0.257680</td>\n",
              "    </tr>\n",
              "    <tr>\n",
              "      <th>min</th>\n",
              "      <td>27.000000</td>\n",
              "      <td>-4821.000000</td>\n",
              "      <td>21.000000</td>\n",
              "      <td>-3939.000000</td>\n",
              "      <td>-188.000000</td>\n",
              "      <td>-26739.000000</td>\n",
              "      <td>-48.000000</td>\n",
              "      <td>-353.000000</td>\n",
              "      <td>-356.000000</td>\n",
              "      <td>0.000000</td>\n",
              "    </tr>\n",
              "    <tr>\n",
              "      <th>25%</th>\n",
              "      <td>37.000000</td>\n",
              "      <td>0.000000</td>\n",
              "      <td>79.000000</td>\n",
              "      <td>0.000000</td>\n",
              "      <td>30.000000</td>\n",
              "      <td>-4.000000</td>\n",
              "      <td>33.000000</td>\n",
              "      <td>35.000000</td>\n",
              "      <td>0.000000</td>\n",
              "      <td>0.000000</td>\n",
              "    </tr>\n",
              "    <tr>\n",
              "      <th>50%</th>\n",
              "      <td>44.000000</td>\n",
              "      <td>0.000000</td>\n",
              "      <td>83.000000</td>\n",
              "      <td>0.000000</td>\n",
              "      <td>42.000000</td>\n",
              "      <td>0.000000</td>\n",
              "      <td>39.000000</td>\n",
              "      <td>41.000000</td>\n",
              "      <td>2.000000</td>\n",
              "      <td>0.000000</td>\n",
              "    </tr>\n",
              "    <tr>\n",
              "      <th>75%</th>\n",
              "      <td>50.000000</td>\n",
              "      <td>0.000000</td>\n",
              "      <td>88.000000</td>\n",
              "      <td>0.000000</td>\n",
              "      <td>46.000000</td>\n",
              "      <td>5.000000</td>\n",
              "      <td>43.000000</td>\n",
              "      <td>55.000000</td>\n",
              "      <td>6.000000</td>\n",
              "      <td>0.000000</td>\n",
              "    </tr>\n",
              "    <tr>\n",
              "      <th>max</th>\n",
              "      <td>126.000000</td>\n",
              "      <td>5075.000000</td>\n",
              "      <td>149.000000</td>\n",
              "      <td>3830.000000</td>\n",
              "      <td>436.000000</td>\n",
              "      <td>15164.000000</td>\n",
              "      <td>105.000000</td>\n",
              "      <td>270.000000</td>\n",
              "      <td>266.000000</td>\n",
              "      <td>1.000000</td>\n",
              "    </tr>\n",
              "  </tbody>\n",
              "</table>\n",
              "</div>\n",
              "      <button class=\"colab-df-convert\" onclick=\"convertToInteractive('df-2722261e-65f4-41fe-8620-d1e59d0eab90')\"\n",
              "              title=\"Convert this dataframe to an interactive table.\"\n",
              "              style=\"display:none;\">\n",
              "        \n",
              "  <svg xmlns=\"http://www.w3.org/2000/svg\" height=\"24px\"viewBox=\"0 0 24 24\"\n",
              "       width=\"24px\">\n",
              "    <path d=\"M0 0h24v24H0V0z\" fill=\"none\"/>\n",
              "    <path d=\"M18.56 5.44l.94 2.06.94-2.06 2.06-.94-2.06-.94-.94-2.06-.94 2.06-2.06.94zm-11 1L8.5 8.5l.94-2.06 2.06-.94-2.06-.94L8.5 2.5l-.94 2.06-2.06.94zm10 10l.94 2.06.94-2.06 2.06-.94-2.06-.94-.94-2.06-.94 2.06-2.06.94z\"/><path d=\"M17.41 7.96l-1.37-1.37c-.4-.4-.92-.59-1.43-.59-.52 0-1.04.2-1.43.59L10.3 9.45l-7.72 7.72c-.78.78-.78 2.05 0 2.83L4 21.41c.39.39.9.59 1.41.59.51 0 1.02-.2 1.41-.59l7.78-7.78 2.81-2.81c.8-.78.8-2.07 0-2.86zM5.41 20L4 18.59l7.72-7.72 1.47 1.35L5.41 20z\"/>\n",
              "  </svg>\n",
              "      </button>\n",
              "      \n",
              "  <style>\n",
              "    .colab-df-container {\n",
              "      display:flex;\n",
              "      flex-wrap:wrap;\n",
              "      gap: 12px;\n",
              "    }\n",
              "\n",
              "    .colab-df-convert {\n",
              "      background-color: #E8F0FE;\n",
              "      border: none;\n",
              "      border-radius: 50%;\n",
              "      cursor: pointer;\n",
              "      display: none;\n",
              "      fill: #1967D2;\n",
              "      height: 32px;\n",
              "      padding: 0 0 0 0;\n",
              "      width: 32px;\n",
              "    }\n",
              "\n",
              "    .colab-df-convert:hover {\n",
              "      background-color: #E2EBFA;\n",
              "      box-shadow: 0px 1px 2px rgba(60, 64, 67, 0.3), 0px 1px 3px 1px rgba(60, 64, 67, 0.15);\n",
              "      fill: #174EA6;\n",
              "    }\n",
              "\n",
              "    [theme=dark] .colab-df-convert {\n",
              "      background-color: #3B4455;\n",
              "      fill: #D2E3FC;\n",
              "    }\n",
              "\n",
              "    [theme=dark] .colab-df-convert:hover {\n",
              "      background-color: #434B5C;\n",
              "      box-shadow: 0px 1px 3px 1px rgba(0, 0, 0, 0.15);\n",
              "      filter: drop-shadow(0px 1px 2px rgba(0, 0, 0, 0.3));\n",
              "      fill: #FFFFFF;\n",
              "    }\n",
              "  </style>\n",
              "\n",
              "      <script>\n",
              "        const buttonEl =\n",
              "          document.querySelector('#df-2722261e-65f4-41fe-8620-d1e59d0eab90 button.colab-df-convert');\n",
              "        buttonEl.style.display =\n",
              "          google.colab.kernel.accessAllowed ? 'block' : 'none';\n",
              "\n",
              "        async function convertToInteractive(key) {\n",
              "          const element = document.querySelector('#df-2722261e-65f4-41fe-8620-d1e59d0eab90');\n",
              "          const dataTable =\n",
              "            await google.colab.kernel.invokeFunction('convertToInteractive',\n",
              "                                                     [key], {});\n",
              "          if (!dataTable) return;\n",
              "\n",
              "          const docLinkHtml = 'Like what you see? Visit the ' +\n",
              "            '<a target=\"_blank\" href=https://colab.research.google.com/notebooks/data_table.ipynb>data table notebook</a>'\n",
              "            + ' to learn more about interactive tables.';\n",
              "          element.innerHTML = '';\n",
              "          dataTable['output_type'] = 'display_data';\n",
              "          await google.colab.output.renderOutput(dataTable, element);\n",
              "          const docLink = document.createElement('div');\n",
              "          docLink.innerHTML = docLinkHtml;\n",
              "          element.appendChild(docLink);\n",
              "        }\n",
              "      </script>\n",
              "    </div>\n",
              "  </div>\n",
              "  "
            ]
          },
          "metadata": {},
          "execution_count": 4
        }
      ]
    },
    {
      "cell_type": "code",
      "source": [
        "df.isnull().sum()"
      ],
      "metadata": {
        "colab": {
          "base_uri": "https://localhost:8080/"
        },
        "id": "79_CrbrcKY0m",
        "outputId": "d19260a1-cbc8-4eb8-d1b1-2b880ec38a77"
      },
      "execution_count": 5,
      "outputs": [
        {
          "output_type": "execute_result",
          "data": {
            "text/plain": [
              "V1      0\n",
              "V2      0\n",
              "V3      0\n",
              "V4      0\n",
              "V5      0\n",
              "V6      0\n",
              "V7      0\n",
              "V8      0\n",
              "V9      0\n",
              "Anom    0\n",
              "dtype: int64"
            ]
          },
          "metadata": {},
          "execution_count": 5
        }
      ]
    },
    {
      "cell_type": "code",
      "source": [
        "# # Initialize the scaler\n",
        "# scaler = MinMaxScaler()\n",
        "\n",
        "# # Fit the scaler to the training data\n",
        "# scaler.fit(df)\n",
        "# df_scaled = scaler.transform(df)\n",
        "# #turn back to pandas dataframe\n",
        "# df_scaled = pd.DataFrame(df_scaled, columns=df.columns)\n",
        "df_scaled = (df - df.min())/(df.max() - df.min())"
      ],
      "metadata": {
        "id": "6_udrzykKftm"
      },
      "execution_count": 6,
      "outputs": []
    },
    {
      "cell_type": "code",
      "source": [
        "X = df_scaled.drop(columns='Anom')\n",
        "Y = df_scaled['Anom']\n",
        " # Assign the features and labels\n",
        "# X = df_scaled[:, :-1]  # select all rows and all columns except the last one\n",
        "# Y = df_scaled[:, -1] \n",
        "# Split the data\n",
        "X_train, X_test, y_train, y_test = train_test_split(X, Y,stratify=Y, test_size=0.2, random_state=42)"
      ],
      "metadata": {
        "id": "RM1U4QKHMNvr"
      },
      "execution_count": 7,
      "outputs": []
    },
    {
      "cell_type": "code",
      "source": [
        "print(X_train.shape)\n",
        "print(X_test.shape)"
      ],
      "metadata": {
        "colab": {
          "base_uri": "https://localhost:8080/"
        },
        "id": "H1vEPqsUjn5W",
        "outputId": "de4f71cc-206c-4c69-f916-c0c337ea4eca"
      },
      "execution_count": 8,
      "outputs": [
        {
          "output_type": "stream",
          "name": "stdout",
          "text": [
            "(39277, 9)\n",
            "(9820, 9)\n"
          ]
        }
      ]
    },
    {
      "cell_type": "markdown",
      "metadata": {
        "id": "UELA6I9KH-3D"
      },
      "source": [
        "**Task 2: model generation and training**\n",
        "\n",
        "Generate a suitable autoencoder model, the only restriction is that there should be only 2 latent variables. Train the model to a satistifactory result. Be aware that it will be much harder to achieve the sort of result you can get from a supervised learning model. \n",
        "\n",
        "**Hint**: it should not take longer than a 1000 epochs to train. However it may be difficult to train. Use different optimizers, topologies and/or weight initialisations to get convergence. Remember that achieving a perfect error means that the model will also be good at reconstructing anomalies. \n"
      ]
    },
    {
      "cell_type": "code",
      "source": [
        "from tensorflow.keras.layers import Input, Dense, Conv2D, Conv2DTranspose, MaxPooling2D\n",
        "from tensorflow.keras.models import Model\n",
        "\n",
        "import tensorflow as tf\n",
        "\n",
        "# Define the input layer\n",
        "input_data = Input(shape=(X_train.shape[1],))\n",
        "\n",
        "# Define the encoder\n",
        "# encoded = Dense(32, activation='relu')(input_data)\n",
        "encoded = Dense(16, activation='relu')(input_data)\n",
        "encoded = Dense(8, activation='relu')(encoded)\n",
        "encoded = Dense(2, activation='relu')(encoded)\n",
        "\n",
        "encoder = Model(input_data, encoded, name='encoded')\n",
        "encoder.summary()\n",
        "\n",
        "# Define the decoder\n",
        "# decoder takes the latenet space variables\n",
        "decoded = Dense(8, activation='relu')(encoded)\n",
        "decoded = Dense(16, activation='relu')(decoded)\n",
        "# decoded = Dense(32, activation='relu')(decoded)\n",
        "decoded = Dense(9, activation='linear')(decoded)\n",
        "\n",
        "decoder = Model(encoded, decoded, name='decoded')\n",
        "decoder.summary()\n",
        "\n",
        "# define the autoEncoder\n",
        "\n",
        "rec = decoder(encoder(input_data))\n",
        "autoencoder = Model(input_data,rec)\n",
        "reconstruction_loss = tf.keras.losses.MeanSquaredError()(input_data, rec)\n",
        "autoencoder.add_loss(reconstruction_loss)\n",
        "autoencoder.compile(optimizer='adam')\n",
        "autoencoder.summary()"
      ],
      "metadata": {
        "colab": {
          "base_uri": "https://localhost:8080/"
        },
        "id": "mKsjrk6MSdEz",
        "outputId": "ed3a5af5-e35b-4bfe-d93b-46cf7bd3622e"
      },
      "execution_count": 9,
      "outputs": [
        {
          "output_type": "stream",
          "name": "stdout",
          "text": [
            "Model: \"encoded\"\n",
            "_________________________________________________________________\n",
            " Layer (type)                Output Shape              Param #   \n",
            "=================================================================\n",
            " input_1 (InputLayer)        [(None, 9)]               0         \n",
            "                                                                 \n",
            " dense (Dense)               (None, 16)                160       \n",
            "                                                                 \n",
            " dense_1 (Dense)             (None, 8)                 136       \n",
            "                                                                 \n",
            " dense_2 (Dense)             (None, 2)                 18        \n",
            "                                                                 \n",
            "=================================================================\n",
            "Total params: 314\n",
            "Trainable params: 314\n",
            "Non-trainable params: 0\n",
            "_________________________________________________________________\n",
            "Model: \"decoded\"\n",
            "_________________________________________________________________\n",
            " Layer (type)                Output Shape              Param #   \n",
            "=================================================================\n",
            " input_2 (InputLayer)        [(None, 2)]               0         \n",
            "                                                                 \n",
            " dense_3 (Dense)             (None, 8)                 24        \n",
            "                                                                 \n",
            " dense_4 (Dense)             (None, 16)                144       \n",
            "                                                                 \n",
            " dense_5 (Dense)             (None, 9)                 153       \n",
            "                                                                 \n",
            "=================================================================\n",
            "Total params: 321\n",
            "Trainable params: 321\n",
            "Non-trainable params: 0\n",
            "_________________________________________________________________\n",
            "Model: \"model\"\n",
            "__________________________________________________________________________________________________\n",
            " Layer (type)                   Output Shape         Param #     Connected to                     \n",
            "==================================================================================================\n",
            " input_1 (InputLayer)           [(None, 9)]          0           []                               \n",
            "                                                                                                  \n",
            " encoded (Functional)           (None, 2)            314         ['input_1[0][0]']                \n",
            "                                                                                                  \n",
            " decoded (Functional)           (None, 9)            321         ['encoded[0][0]']                \n",
            "                                                                                                  \n",
            " tf.convert_to_tensor (TFOpLamb  (None, 9)           0           ['decoded[0][0]']                \n",
            " da)                                                                                              \n",
            "                                                                                                  \n",
            " tf.cast (TFOpLambda)           (None, 9)            0           ['input_1[0][0]']                \n",
            "                                                                                                  \n",
            " tf.math.squared_difference (TF  (None, 9)           0           ['tf.convert_to_tensor[0][0]',   \n",
            " OpLambda)                                                        'tf.cast[0][0]']                \n",
            "                                                                                                  \n",
            " tf.math.reduce_mean (TFOpLambd  (None,)             0           ['tf.math.squared_difference[0][0\n",
            " a)                                                              ]']                              \n",
            "                                                                                                  \n",
            " tf.math.multiply (TFOpLambda)  (None,)              0           ['tf.math.reduce_mean[0][0]']    \n",
            "                                                                                                  \n",
            " tf.math.reduce_sum (TFOpLambda  ()                  0           ['tf.math.multiply[0][0]']       \n",
            " )                                                                                                \n",
            "                                                                                                  \n",
            " tf.compat.v1.size (TFOpLambda)  ()                  0           ['tf.math.multiply[0][0]']       \n",
            "                                                                                                  \n",
            " tf.math.reduce_sum_1 (TFOpLamb  ()                  0           ['tf.math.reduce_sum[0][0]']     \n",
            " da)                                                                                              \n",
            "                                                                                                  \n",
            " tf.cast_1 (TFOpLambda)         ()                   0           ['tf.compat.v1.size[0][0]']      \n",
            "                                                                                                  \n",
            " tf.math.divide_no_nan (TFOpLam  ()                  0           ['tf.math.reduce_sum_1[0][0]',   \n",
            " bda)                                                             'tf.cast_1[0][0]']              \n",
            "                                                                                                  \n",
            " add_loss (AddLoss)             ()                   0           ['tf.math.divide_no_nan[0][0]']  \n",
            "                                                                                                  \n",
            "==================================================================================================\n",
            "Total params: 635\n",
            "Trainable params: 635\n",
            "Non-trainable params: 0\n",
            "__________________________________________________________________________________________________\n"
          ]
        }
      ]
    },
    {
      "cell_type": "code",
      "source": [
        "# Train the model, this can take some time\n",
        "history = autoencoder.fit(X_train, X_train,\n",
        "                epochs=100,\n",
        "                batch_size=128,\n",
        "                shuffle=True,\n",
        "                validation_data=(X_test, X_test))\n",
        "autoencoder.save_weights('ae_etivity_1.h5')\n"
      ],
      "metadata": {
        "colab": {
          "base_uri": "https://localhost:8080/"
        },
        "id": "e5dbHelVdbh7",
        "outputId": "c85cb58e-4854-4fab-b34d-8a6583559f30"
      },
      "execution_count": 10,
      "outputs": [
        {
          "output_type": "stream",
          "name": "stdout",
          "text": [
            "Epoch 1/100\n",
            "307/307 [==============================] - 2s 4ms/step - loss: 0.1564 - val_loss: 0.0753\n",
            "Epoch 2/100\n",
            "307/307 [==============================] - 1s 4ms/step - loss: 0.0398 - val_loss: 0.0171\n",
            "Epoch 3/100\n",
            "307/307 [==============================] - 1s 4ms/step - loss: 0.0096 - val_loss: 0.0053\n",
            "Epoch 4/100\n",
            "307/307 [==============================] - 1s 5ms/step - loss: 0.0043 - val_loss: 0.0038\n",
            "Epoch 5/100\n",
            "307/307 [==============================] - 2s 5ms/step - loss: 0.0037 - val_loss: 0.0037\n",
            "Epoch 6/100\n",
            "307/307 [==============================] - 2s 5ms/step - loss: 0.0037 - val_loss: 0.0037\n",
            "Epoch 7/100\n",
            "307/307 [==============================] - 1s 4ms/step - loss: 0.0037 - val_loss: 0.0037\n",
            "Epoch 8/100\n",
            "307/307 [==============================] - 2s 5ms/step - loss: 0.0037 - val_loss: 0.0037\n",
            "Epoch 9/100\n",
            "307/307 [==============================] - 2s 5ms/step - loss: 0.0037 - val_loss: 0.0037\n",
            "Epoch 10/100\n",
            "307/307 [==============================] - 2s 6ms/step - loss: 0.0037 - val_loss: 0.0037\n",
            "Epoch 11/100\n",
            "307/307 [==============================] - 1s 5ms/step - loss: 0.0037 - val_loss: 0.0037\n",
            "Epoch 12/100\n",
            "307/307 [==============================] - 1s 3ms/step - loss: 0.0037 - val_loss: 0.0037\n",
            "Epoch 13/100\n",
            "307/307 [==============================] - 1s 2ms/step - loss: 0.0037 - val_loss: 0.0037\n",
            "Epoch 14/100\n",
            "307/307 [==============================] - 1s 2ms/step - loss: 0.0037 - val_loss: 0.0037\n",
            "Epoch 15/100\n",
            "307/307 [==============================] - 1s 2ms/step - loss: 0.0037 - val_loss: 0.0037\n",
            "Epoch 16/100\n",
            "307/307 [==============================] - 1s 2ms/step - loss: 0.0037 - val_loss: 0.0037\n",
            "Epoch 17/100\n",
            "307/307 [==============================] - 1s 2ms/step - loss: 0.0037 - val_loss: 0.0037\n",
            "Epoch 18/100\n",
            "307/307 [==============================] - 1s 2ms/step - loss: 0.0037 - val_loss: 0.0037\n",
            "Epoch 19/100\n",
            "307/307 [==============================] - 1s 2ms/step - loss: 0.0037 - val_loss: 0.0037\n",
            "Epoch 20/100\n",
            "307/307 [==============================] - 1s 2ms/step - loss: 0.0037 - val_loss: 0.0037\n",
            "Epoch 21/100\n",
            "307/307 [==============================] - 1s 2ms/step - loss: 0.0037 - val_loss: 0.0037\n",
            "Epoch 22/100\n",
            "307/307 [==============================] - 1s 2ms/step - loss: 0.0037 - val_loss: 0.0037\n",
            "Epoch 23/100\n",
            "307/307 [==============================] - 1s 2ms/step - loss: 0.0037 - val_loss: 0.0037\n",
            "Epoch 24/100\n",
            "307/307 [==============================] - 1s 2ms/step - loss: 0.0037 - val_loss: 0.0037\n",
            "Epoch 25/100\n",
            "307/307 [==============================] - 1s 2ms/step - loss: 0.0037 - val_loss: 0.0037\n",
            "Epoch 26/100\n",
            "307/307 [==============================] - 1s 2ms/step - loss: 0.0037 - val_loss: 0.0037\n",
            "Epoch 27/100\n",
            "307/307 [==============================] - 1s 2ms/step - loss: 0.0037 - val_loss: 0.0037\n",
            "Epoch 28/100\n",
            "307/307 [==============================] - 1s 2ms/step - loss: 0.0037 - val_loss: 0.0037\n",
            "Epoch 29/100\n",
            "307/307 [==============================] - 1s 2ms/step - loss: 0.0037 - val_loss: 0.0037\n",
            "Epoch 30/100\n",
            "307/307 [==============================] - 1s 2ms/step - loss: 0.0037 - val_loss: 0.0037\n",
            "Epoch 31/100\n",
            "307/307 [==============================] - 1s 2ms/step - loss: 0.0037 - val_loss: 0.0037\n",
            "Epoch 32/100\n",
            "307/307 [==============================] - 1s 2ms/step - loss: 0.0037 - val_loss: 0.0037\n",
            "Epoch 33/100\n",
            "307/307 [==============================] - 1s 3ms/step - loss: 0.0037 - val_loss: 0.0037\n",
            "Epoch 34/100\n",
            "307/307 [==============================] - 1s 3ms/step - loss: 0.0037 - val_loss: 0.0037\n",
            "Epoch 35/100\n",
            "307/307 [==============================] - 1s 4ms/step - loss: 0.0037 - val_loss: 0.0037\n",
            "Epoch 36/100\n",
            "307/307 [==============================] - 1s 2ms/step - loss: 0.0037 - val_loss: 0.0037\n",
            "Epoch 37/100\n",
            "307/307 [==============================] - 1s 2ms/step - loss: 0.0037 - val_loss: 0.0037\n",
            "Epoch 38/100\n",
            "307/307 [==============================] - 1s 2ms/step - loss: 0.0037 - val_loss: 0.0037\n",
            "Epoch 39/100\n",
            "307/307 [==============================] - 1s 2ms/step - loss: 0.0037 - val_loss: 0.0037\n",
            "Epoch 40/100\n",
            "307/307 [==============================] - 1s 2ms/step - loss: 0.0037 - val_loss: 0.0037\n",
            "Epoch 41/100\n",
            "307/307 [==============================] - 1s 2ms/step - loss: 0.0037 - val_loss: 0.0037\n",
            "Epoch 42/100\n",
            "307/307 [==============================] - 1s 2ms/step - loss: 0.0037 - val_loss: 0.0037\n",
            "Epoch 43/100\n",
            "307/307 [==============================] - 1s 2ms/step - loss: 0.0037 - val_loss: 0.0037\n",
            "Epoch 44/100\n",
            "307/307 [==============================] - 1s 2ms/step - loss: 0.0037 - val_loss: 0.0037\n",
            "Epoch 45/100\n",
            "307/307 [==============================] - 1s 2ms/step - loss: 0.0037 - val_loss: 0.0037\n",
            "Epoch 46/100\n",
            "307/307 [==============================] - 1s 2ms/step - loss: 0.0037 - val_loss: 0.0037\n",
            "Epoch 47/100\n",
            "307/307 [==============================] - 1s 2ms/step - loss: 0.0037 - val_loss: 0.0037\n",
            "Epoch 48/100\n",
            "307/307 [==============================] - 1s 2ms/step - loss: 0.0037 - val_loss: 0.0037\n",
            "Epoch 49/100\n",
            "307/307 [==============================] - 1s 2ms/step - loss: 0.0037 - val_loss: 0.0037\n",
            "Epoch 50/100\n",
            "307/307 [==============================] - 1s 2ms/step - loss: 0.0037 - val_loss: 0.0037\n",
            "Epoch 51/100\n",
            "307/307 [==============================] - 1s 2ms/step - loss: 0.0037 - val_loss: 0.0037\n",
            "Epoch 52/100\n",
            "307/307 [==============================] - 1s 2ms/step - loss: 0.0037 - val_loss: 0.0037\n",
            "Epoch 53/100\n",
            "307/307 [==============================] - 1s 2ms/step - loss: 0.0037 - val_loss: 0.0037\n",
            "Epoch 54/100\n",
            "307/307 [==============================] - 1s 2ms/step - loss: 0.0037 - val_loss: 0.0037\n",
            "Epoch 55/100\n",
            "307/307 [==============================] - 1s 2ms/step - loss: 0.0037 - val_loss: 0.0037\n",
            "Epoch 56/100\n",
            "307/307 [==============================] - 1s 2ms/step - loss: 0.0037 - val_loss: 0.0037\n",
            "Epoch 57/100\n",
            "307/307 [==============================] - 1s 2ms/step - loss: 0.0037 - val_loss: 0.0037\n",
            "Epoch 58/100\n",
            "307/307 [==============================] - 1s 2ms/step - loss: 0.0037 - val_loss: 0.0037\n",
            "Epoch 59/100\n",
            "307/307 [==============================] - 1s 2ms/step - loss: 0.0037 - val_loss: 0.0037\n",
            "Epoch 60/100\n",
            "307/307 [==============================] - 1s 2ms/step - loss: 0.0037 - val_loss: 0.0037\n",
            "Epoch 61/100\n",
            "307/307 [==============================] - 1s 2ms/step - loss: 0.0037 - val_loss: 0.0037\n",
            "Epoch 62/100\n",
            "307/307 [==============================] - 1s 2ms/step - loss: 0.0037 - val_loss: 0.0037\n",
            "Epoch 63/100\n",
            "307/307 [==============================] - 1s 2ms/step - loss: 0.0037 - val_loss: 0.0037\n",
            "Epoch 64/100\n",
            "307/307 [==============================] - 1s 2ms/step - loss: 0.0037 - val_loss: 0.0037\n",
            "Epoch 65/100\n",
            "307/307 [==============================] - 1s 2ms/step - loss: 0.0037 - val_loss: 0.0037\n",
            "Epoch 66/100\n",
            "307/307 [==============================] - 1s 2ms/step - loss: 0.0037 - val_loss: 0.0037\n",
            "Epoch 67/100\n",
            "307/307 [==============================] - 1s 2ms/step - loss: 0.0037 - val_loss: 0.0037\n",
            "Epoch 68/100\n",
            "307/307 [==============================] - 1s 2ms/step - loss: 0.0037 - val_loss: 0.0037\n",
            "Epoch 69/100\n",
            "307/307 [==============================] - 1s 2ms/step - loss: 0.0037 - val_loss: 0.0037\n",
            "Epoch 70/100\n",
            "307/307 [==============================] - 1s 2ms/step - loss: 0.0037 - val_loss: 0.0037\n",
            "Epoch 71/100\n",
            "307/307 [==============================] - 1s 2ms/step - loss: 0.0037 - val_loss: 0.0037\n",
            "Epoch 72/100\n",
            "307/307 [==============================] - 1s 2ms/step - loss: 0.0037 - val_loss: 0.0037\n",
            "Epoch 73/100\n",
            "307/307 [==============================] - 1s 2ms/step - loss: 0.0037 - val_loss: 0.0037\n",
            "Epoch 74/100\n",
            "307/307 [==============================] - 1s 2ms/step - loss: 0.0037 - val_loss: 0.0037\n",
            "Epoch 75/100\n",
            "307/307 [==============================] - 1s 2ms/step - loss: 0.0037 - val_loss: 0.0037\n",
            "Epoch 76/100\n",
            "307/307 [==============================] - 1s 2ms/step - loss: 0.0037 - val_loss: 0.0037\n",
            "Epoch 77/100\n",
            "307/307 [==============================] - 1s 2ms/step - loss: 0.0037 - val_loss: 0.0037\n",
            "Epoch 78/100\n",
            "307/307 [==============================] - 1s 2ms/step - loss: 0.0037 - val_loss: 0.0037\n",
            "Epoch 79/100\n",
            "307/307 [==============================] - 1s 2ms/step - loss: 0.0037 - val_loss: 0.0037\n",
            "Epoch 80/100\n",
            "307/307 [==============================] - 1s 2ms/step - loss: 0.0037 - val_loss: 0.0037\n",
            "Epoch 81/100\n",
            "307/307 [==============================] - 1s 2ms/step - loss: 0.0037 - val_loss: 0.0037\n",
            "Epoch 82/100\n",
            "307/307 [==============================] - 1s 2ms/step - loss: 0.0037 - val_loss: 0.0037\n",
            "Epoch 83/100\n",
            "307/307 [==============================] - 1s 2ms/step - loss: 0.0037 - val_loss: 0.0037\n",
            "Epoch 84/100\n",
            "307/307 [==============================] - 1s 2ms/step - loss: 0.0037 - val_loss: 0.0037\n",
            "Epoch 85/100\n",
            "307/307 [==============================] - 1s 2ms/step - loss: 0.0037 - val_loss: 0.0037\n",
            "Epoch 86/100\n",
            "307/307 [==============================] - 1s 3ms/step - loss: 0.0037 - val_loss: 0.0037\n",
            "Epoch 87/100\n",
            "307/307 [==============================] - 1s 2ms/step - loss: 0.0037 - val_loss: 0.0037\n",
            "Epoch 88/100\n",
            "307/307 [==============================] - 1s 2ms/step - loss: 0.0037 - val_loss: 0.0037\n",
            "Epoch 89/100\n",
            "307/307 [==============================] - 1s 2ms/step - loss: 0.0037 - val_loss: 0.0037\n",
            "Epoch 90/100\n",
            "307/307 [==============================] - 1s 2ms/step - loss: 0.0037 - val_loss: 0.0037\n",
            "Epoch 91/100\n",
            "307/307 [==============================] - 1s 2ms/step - loss: 0.0037 - val_loss: 0.0037\n",
            "Epoch 92/100\n",
            "307/307 [==============================] - 1s 2ms/step - loss: 0.0037 - val_loss: 0.0037\n",
            "Epoch 93/100\n",
            "307/307 [==============================] - 1s 2ms/step - loss: 0.0037 - val_loss: 0.0037\n",
            "Epoch 94/100\n",
            "307/307 [==============================] - 1s 3ms/step - loss: 0.0037 - val_loss: 0.0037\n",
            "Epoch 95/100\n",
            "307/307 [==============================] - 1s 2ms/step - loss: 0.0037 - val_loss: 0.0037\n",
            "Epoch 96/100\n",
            "307/307 [==============================] - 1s 2ms/step - loss: 0.0037 - val_loss: 0.0037\n",
            "Epoch 97/100\n",
            "307/307 [==============================] - 1s 2ms/step - loss: 0.0037 - val_loss: 0.0037\n",
            "Epoch 98/100\n",
            "307/307 [==============================] - 1s 2ms/step - loss: 0.0037 - val_loss: 0.0037\n",
            "Epoch 99/100\n",
            "307/307 [==============================] - 1s 2ms/step - loss: 0.0037 - val_loss: 0.0037\n",
            "Epoch 100/100\n",
            "307/307 [==============================] - 1s 2ms/step - loss: 0.0037 - val_loss: 0.0037\n"
          ]
        }
      ]
    },
    {
      "cell_type": "markdown",
      "metadata": {
        "id": "0fBWB78jH-3E"
      },
      "source": [
        "**Task 3: anomaly detection**\n",
        "\n",
        "From the histogram of the reconstruction error decide what the cutoff should be applied to distinguish anomalies from valid samples, given that the anomaly rate is ~7%."
      ]
    },
    {
      "cell_type": "code",
      "source": [
        "import matplotlib.pyplot as plt\n",
        "\n",
        "# calculate predictions from our AutoEncoder model for the training dataset\n",
        "predictions = autoencoder.predict(X_test)\n",
        "\n",
        "# calculate the mean squared error for each sample\n",
        "mse = ((X_test - predictions) ** 2).mean(axis=1)\n",
        "\n",
        "# plot the histogram of mse\n",
        "n, bins, patches = plt.hist(mse, bins=100)\n",
        "\n",
        "# sort the mse in descending order\n",
        "mse_sorted = sorted(mse, reverse=True)\n",
        "\n",
        "# calculate the index of the threshold value\n",
        "threshold_index = int(len(mse_sorted) * 0.07)\n",
        "\n",
        "# set the threshold to the value at the threshold index\n",
        "threshold = mse_sorted[threshold_index]\n",
        "print(f'threshold is {threshold}')\n",
        "\n",
        "# add a vertical line to the plot at the threshold value\n",
        "plt.vlines(threshold, 0, n.max(), colors='r', linewidth=2)\n",
        "\n",
        "# identify the samples that have a mse greater than the threshold \n",
        "anomalies = X_test[mse > threshold]\n",
        "plt.show()\n",
        "\n",
        "\n",
        "\n"
      ],
      "metadata": {
        "colab": {
          "base_uri": "https://localhost:8080/",
          "height": 300
        },
        "id": "3qyTPk17giFO",
        "outputId": "5f7aa610-11fc-4ba6-be69-2b778488dff0"
      },
      "execution_count": 11,
      "outputs": [
        {
          "output_type": "stream",
          "name": "stdout",
          "text": [
            "307/307 [==============================] - 0s 1ms/step\n",
            "threshold is 0.009999039159472051\n"
          ]
        },
        {
          "output_type": "display_data",
          "data": {
            "text/plain": [
              "<Figure size 432x288 with 1 Axes>"
            ],
            "image/png": "[encoded data removed]"
          },
          "metadata": {
            "needs_background": "light"
          }
        }
      ]
    },
    {
      "cell_type": "code",
      "source": [
        "plt.show()"
      ],
      "metadata": {
        "id": "Ynsxq5GuvH3l"
      },
      "execution_count": 12,
      "outputs": []
    },
    {
      "cell_type": "code",
      "source": [],
      "metadata": {
        "id": "j5hiuoF2vH0v"
      },
      "execution_count": 12,
      "outputs": []
    },
    {
      "cell_type": "markdown",
      "metadata": {
        "id": "pvfG79OoH-3F"
      },
      "source": [
        "### Post (complete by Monday 30/01/23)\n",
        "\n",
        "Post your solution to Tasks 1-3 in notebook form. If you have not completed all the tasks then that is acceptable. The purpose is to get feedback from others in the group, so if you have only a basic outline then you may get ideas about how to proceed and also examples from others in your group.\n",
        "\n",
        "No posts should refer to Task 4."
      ]
    },
    {
      "cell_type": "markdown",
      "metadata": {
        "id": "4HW2ynAjH-3G"
      },
      "source": [
        "### Respond (complete by Wednesday 01/02/23)\n",
        "\n",
        "If you feel you can provide useful advise then respond to another member of the group through the appropriate forum. Responses should be respectful and offer some sort of advise. Try and avoid clogging the forums with support or thank you messages.\n",
        "\n",
        "In reviewing others code you will discover different ways to tackle the same problem. It is acceptable to copy parts of others code. However whole scale copying from another notebook is not acceptable."
      ]
    },
    {
      "cell_type": "markdown",
      "metadata": {
        "id": "5yFawJOsH-3H"
      },
      "source": [
        "Grading guidelines for the forum posts: Weight [2/7]\n",
        "\n",
        "**Beginning [0-8]:** Respectful posts of minor value. Significant number of posts without valuable contributions and/or without well-considered questions. Posts about task 4 in contravention of intructions.\n",
        "\n",
        "**Developing [9-12]:** At least 1 post  exceeding Beginning level with respectful suggestion or thought provoking question. Most posts contain valuable contributions or well-considered questions.\n",
        "\n",
        "**Advancing [13-16]:** At least 2 posts: 1 equal to or exceeding Beginning level;  1 with respectful and sound contribution highlighting mistakes or alternative approaches.\n",
        "\n",
        "**Accomplished [17-20]:** At least 3 posts: 2 equal to or exceeding Accomplished level; 1 with respectful contribution of significant value. "
      ]
    },
    {
      "cell_type": "markdown",
      "metadata": {
        "id": "91SS2yODH-3I"
      },
      "source": [
        "### Task 4: VAE (completed by Sunday 05/02/23)\n",
        "\n",
        "This task is a individual task and should **not** to be uploaded to GitHub. No direct support should be given via the forums, although comments about progress or results are allowed. Marks will be deducted if the instructions are not followed (see rubrics). This part should be uploaded directly to Sulis.\n",
        "\n",
        "Change the network to be a VAE. Again determine the optimal cutoff and plot the latent variables. Check how good the cutoffs were by constructing a confusion matrix or generating a classification report. Obviously for this task you need to use the Anom column.\n",
        "\n",
        "**Hint** you can use the model topology from the AE (with the obvious modifications). I found that I had a good model (almost as good and the supervised learning model) when the KL divergence was small. You can print out both the KL divergence and reconstruction loss for each epoch. It can be tricky to train these type of models, so do not be surprised if you do not get a stellar result. What is more important is that you have the correct code to implement the VAE."
      ]
    },
    {
      "cell_type": "markdown",
      "metadata": {
        "id": "zhdvKN-pH-3J"
      },
      "source": [
        "### Final Submission (complete by Sunday 05/02/23)\n",
        "\n",
        "Submit Tasks 1-4 in a single notebook this before the deadline on Sunday.\n"
      ]
    },
    {
      "cell_type": "code",
      "execution_count": 13,
      "metadata": {
        "id": "-caE6YrFH-3K"
      },
      "outputs": [],
      "source": [
        "## Add additional code cells to implememt the tasks stated above "
      ]
    },
    {
      "cell_type": "markdown",
      "metadata": {
        "id": "FBIyen00H-3M"
      },
      "source": [
        "## Reflection\n",
        "\n",
        "There are no specific marks allocated for a reflection. However due consideration will be given if pertinent comments or valuable insights are made."
      ]
    },
    {
      "cell_type": "code",
      "execution_count": 13,
      "metadata": {
        "id": "T0DjkbrsH-3N"
      },
      "outputs": [],
      "source": []
    }
  ],
  "metadata": {
    "kernelspec": {
      "display_name": "Python 3 (ipykernel)",
      "language": "python",
      "name": "python3"
    },
    "language_info": {
      "codemirror_mode": {
        "name": "ipython",
        "version": 3
      },
      "file_extension": ".py",
      "mimetype": "text/x-python",
      "name": "python",
      "nbconvert_exporter": "python",
      "pygments_lexer": "ipython3",
      "version": "3.9.15"
    },
    "latex_envs": {
      "LaTeX_envs_menu_present": true,
      "autoclose": false,
      "autocomplete": true,
      "bibliofile": "biblio.bib",
      "cite_by": "apalike",
      "current_citInitial": 1,
      "eqLabelWithNumbers": true,
      "eqNumInitial": 1,
      "hotkeys": {
        "equation": "Ctrl-E",
        "itemize": "Ctrl-I"
      },
      "labels_anchors": false,
      "latex_user_defs": false,
      "report_style_numbering": false,
      "user_envs_cfg": false
    },
    "colab": {
      "provenance": []
    }
  },
  "nbformat": 4,
  "nbformat_minor": 0
}